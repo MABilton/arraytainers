{
 "cells": [
  {
   "cell_type": "code",
   "execution_count": 1,
   "id": "01715eb8-225d-453b-94c5-97c5c7966c80",
   "metadata": {},
   "outputs": [],
   "source": [
    "import jax\n",
    "import jax.numpy as jnp\n",
    "import numpy as np"
   ]
  },
  {
   "cell_type": "code",
   "execution_count": 2,
   "id": "b821c3fa",
   "metadata": {},
   "outputs": [],
   "source": [
    "from arraytainers import Arraytainer, Jaxtainer"
   ]
  },
  {
   "cell_type": "code",
   "execution_count": 3,
   "id": "f3d3b9a2-3f79-41a9-b154-a7d683c851d9",
   "metadata": {},
   "outputs": [
    {
     "name": "stderr",
     "output_type": "stream",
     "text": [
      "WARNING:absl:No GPU/TPU found, falling back to CPU. (Set TF_CPP_MIN_LOG_LEVEL=0 and rerun for more info.)\n"
     ]
    },
    {
     "data": {
      "text/plain": [
       "DeviceArray([1.], dtype=float32)"
      ]
     },
     "execution_count": 3,
     "metadata": {},
     "output_type": "execute_result"
    }
   ],
   "source": [
    "A = Jaxtainer({'a': jnp.array([1])}, dtype=float)\n",
    "A[1] = 1\n",
    "A.first_array"
   ]
  },
  {
   "cell_type": "code",
   "execution_count": 4,
   "id": "b077a410-d309-4fbd-8875-502b61e43850",
   "metadata": {},
   "outputs": [
    {
     "data": {
      "text/plain": [
       "array(3)"
      ]
     },
     "execution_count": 4,
     "metadata": {},
     "output_type": "execute_result"
    }
   ],
   "source": [
    "A = Arraytainer({'a':[3, 2], 'b':[1, 2]}, dtype=int)\n",
    "B = Arraytainer({'b': np.array([3])}, dtype=float)\n",
    "A.first_array"
   ]
  },
  {
   "cell_type": "code",
   "execution_count": 5,
   "id": "73b92d30-305d-4e19-b87f-b6d85a6920c1",
   "metadata": {},
   "outputs": [
    {
     "data": {
      "text/plain": [
       "Arraytainer({'b': array([[3.]])})"
      ]
     },
     "execution_count": 5,
     "metadata": {},
     "output_type": "execute_result"
    }
   ],
   "source": [
    "B.reshape(1,B.shape)"
   ]
  },
  {
   "cell_type": "code",
   "execution_count": 6,
   "id": "27dc904d-8e98-40ea-b715-73e948bae463",
   "metadata": {},
   "outputs": [
    {
     "data": {
      "text/plain": [
       "[array([3.])]"
      ]
     },
     "execution_count": 6,
     "metadata": {},
     "output_type": "execute_result"
    }
   ],
   "source": [
    "list(B.values())"
   ]
  },
  {
   "cell_type": "code",
   "execution_count": 8,
   "id": "108a6b4a-b934-4545-becd-d0a42ecb202a",
   "metadata": {},
   "outputs": [
    {
     "data": {
      "text/plain": [
       "4"
      ]
     },
     "execution_count": 8,
     "metadata": {},
     "output_type": "execute_result"
    }
   ],
   "source": [
    "A.size"
   ]
  },
  {
   "cell_type": "code",
   "execution_count": 9,
   "id": "ea44ac80-f77f-4938-914f-46d3d812ba44",
   "metadata": {},
   "outputs": [
    {
     "ename": "AttributeError",
     "evalue": "'Arraytainer' object has no attribute 'max'",
     "output_type": "error",
     "traceback": [
      "\u001b[0;31m---------------------------------------------------------------------------\u001b[0m",
      "\u001b[0;31mAttributeError\u001b[0m                            Traceback (most recent call last)",
      "Input \u001b[0;32mIn [9]\u001b[0m, in \u001b[0;36m<cell line: 1>\u001b[0;34m()\u001b[0m\n\u001b[0;32m----> 1\u001b[0m \u001b[43mA\u001b[49m\u001b[38;5;241;43m.\u001b[39;49m\u001b[43mmax\u001b[49m()\n",
      "\u001b[0;31mAttributeError\u001b[0m: 'Arraytainer' object has no attribute 'max'"
     ]
    }
   ],
   "source": []
  },
  {
   "cell_type": "code",
   "execution_count": null,
   "id": "d1941f75-d678-4ea2-95bf-15501721505c",
   "metadata": {},
   "outputs": [],
   "source": []
  }
 ],
 "metadata": {
  "kernelspec": {
   "display_name": "Python 3 (ipykernel)",
   "language": "python",
   "name": "python3"
  },
  "language_info": {
   "codemirror_mode": {
    "name": "ipython",
    "version": 3
   },
   "file_extension": ".py",
   "mimetype": "text/x-python",
   "name": "python",
   "nbconvert_exporter": "python",
   "pygments_lexer": "ipython3",
   "version": "3.10.4"
  }
 },
 "nbformat": 4,
 "nbformat_minor": 5
}
