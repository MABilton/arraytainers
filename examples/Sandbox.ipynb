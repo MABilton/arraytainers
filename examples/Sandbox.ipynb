{
 "cells": [
  {
   "cell_type": "code",
   "execution_count": 1,
   "id": "b821c3fa",
   "metadata": {},
   "outputs": [],
   "source": [
    "from arraytainers import Arraytainer, Jaxtainer\n",
    "import numpy as np\n",
    "from numpy import array\n",
    "import jax\n",
    "import jax.numpy as jnp\n",
    "import functools\n",
    "from jax.numpy import DeviceArray"
   ]
  },
  {
   "cell_type": "code",
   "execution_count": 2,
   "id": "600d40b0",
   "metadata": {},
   "outputs": [
    {
     "name": "stdout",
     "output_type": "stream",
     "text": [
      "[2]\n",
      "[array([2])]\n",
      "[3]\n"
     ]
    },
    {
     "data": {
      "text/plain": [
       "Arraytainer({'a': [array([2])], 'b': {'c': array([3])}})"
      ]
     },
     "execution_count": 2,
     "metadata": {},
     "output_type": "execute_result"
    }
   ],
   "source": [
    "Arraytainer({'a':[[2]],'b':{'c':[3]}})"
   ]
  },
  {
   "cell_type": "code",
   "execution_count": 3,
   "id": "8882483f",
   "metadata": {},
   "outputs": [
    {
     "ename": "NameError",
     "evalue": "name 'a' is not defined",
     "output_type": "error",
     "traceback": [
      "\u001b[0;31m---------------------------------------------------------------------------\u001b[0m",
      "\u001b[0;31mNameError\u001b[0m                                 Traceback (most recent call last)",
      "\u001b[0;32m/tmp/ipykernel_22599/1739083353.py\u001b[0m in \u001b[0;36m<module>\u001b[0;34m\u001b[0m\n\u001b[0;32m----> 1\u001b[0;31m \u001b[0ma\u001b[0m\u001b[0;34m.\u001b[0m\u001b[0mshape\u001b[0m\u001b[0;34m\u001b[0m\u001b[0;34m\u001b[0m\u001b[0m\n\u001b[0m",
      "\u001b[0;31mNameError\u001b[0m: name 'a' is not defined"
     ]
    }
   ],
   "source": [
    "a.shape"
   ]
  },
  {
   "cell_type": "code",
   "execution_count": null,
   "id": "6458d126",
   "metadata": {},
   "outputs": [],
   "source": [
    "a = Arraytainer({'a':[{'a':[np.ones((12,)),np.ones((1,12))]}],'b':[{'a':[np.ones((3,4)),np.ones((4,3))]}]}, greedy=True)"
   ]
  },
  {
   "cell_type": "code",
   "execution_count": null,
   "id": "3f4fb2cd",
   "metadata": {},
   "outputs": [],
   "source": [
    "shape = Arraytainer({'a':[{'a':[np.array([6,2]),np.array([4,3])]}],'b':[{'a':[np.array([12,1]),np.array([1,12])]}]}, greedy=True)\n",
    "a.reshape(shape).shape"
   ]
  },
  {
   "cell_type": "code",
   "execution_count": null,
   "id": "edb77f11",
   "metadata": {},
   "outputs": [],
   "source": [
    "a[np.array([[True,False],[False,True]])]"
   ]
  },
  {
   "cell_type": "code",
   "execution_count": null,
   "id": "8b50158a",
   "metadata": {},
   "outputs": [],
   "source": [
    "Arraytainer.from_array(a, a.shape, greedy=True).shape"
   ]
  },
  {
   "cell_type": "code",
   "execution_count": null,
   "id": "b7ee95b9",
   "metadata": {},
   "outputs": [],
   "source": [
    "a = Jaxtainer({'mean': np.array([1.]), 'chol_diag': np.array([1]), 'chol_lowerdiag': np.array([0])})#{'a': {'c':[np.random.rand(6,3,5,2)], 'd':np.random.rand(6,3,5,2)}, 'b': np.random.rand(3,3,5,5), 'e':2}\n",
    "a"
   ]
  },
  {
   "cell_type": "code",
   "execution_count": null,
   "id": "fb91448c",
   "metadata": {},
   "outputs": [],
   "source": [
    "a = {'a': np.random.rand(4,3,5,5), 'b': np.random.rand(3,3,5,5)}\n",
    "A = Jaxtainer(a)\n",
    "# A.reshape(A.shape[:-2], 25)"
   ]
  },
  {
   "cell_type": "code",
   "execution_count": null,
   "id": "d4bc4d5b",
   "metadata": {},
   "outputs": [],
   "source": [
    "A.shape"
   ]
  },
  {
   "cell_type": "code",
   "execution_count": null,
   "id": "221586b7",
   "metadata": {
    "scrolled": true
   },
   "outputs": [],
   "source": [
    "a = {'a': np.random.rand(4,3,5), 'b': np.random.rand(3,4,5,5)}\n",
    "A = Jaxtainer(a)\n",
    "A.reshape(12, A.shape[2:]).shape"
   ]
  },
  {
   "cell_type": "code",
   "execution_count": null,
   "id": "6d622357",
   "metadata": {},
   "outputs": [],
   "source": [
    "Jaxtainer.from_array(A.flatten(), A.shape).shape"
   ]
  },
  {
   "cell_type": "code",
   "execution_count": null,
   "id": "e4c23677",
   "metadata": {},
   "outputs": [],
   "source": [
    "np.array(2).shape"
   ]
  },
  {
   "cell_type": "code",
   "execution_count": null,
   "id": "831035ae",
   "metadata": {},
   "outputs": [],
   "source": []
  }
 ],
 "metadata": {
  "kernelspec": {
   "display_name": "Python 3 (ipykernel)",
   "language": "python",
   "name": "python3"
  },
  "language_info": {
   "codemirror_mode": {
    "name": "ipython",
    "version": 3
   },
   "file_extension": ".py",
   "mimetype": "text/x-python",
   "name": "python",
   "nbconvert_exporter": "python",
   "pygments_lexer": "ipython3",
   "version": "3.8.10"
  }
 },
 "nbformat": 4,
 "nbformat_minor": 5
}
