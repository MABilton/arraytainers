{
 "cells": [
  {
   "cell_type": "code",
   "execution_count": 11,
   "id": "b821c3fa",
   "metadata": {},
   "outputs": [],
   "source": [
    "from arraytainers import Arraytainer, Jaxtainer\n",
    "import numpy as np\n",
    "from numpy import array\n",
    "import jax\n",
    "import jax.numpy as jnp\n",
    "import functools\n",
    "from jax.numpy import DeviceArray"
   ]
  },
  {
   "cell_type": "code",
   "execution_count": 2,
   "id": "6177990e",
   "metadata": {},
   "outputs": [
    {
     "name": "stderr",
     "output_type": "stream",
     "text": [
      "WARNING:absl:No GPU/TPU found, falling back to CPU. (Set TF_CPP_MIN_LOG_LEVEL=0 and rerun for more info.)\n"
     ]
    },
    {
     "data": {
      "text/plain": [
       "numpy.ndarray"
      ]
     },
     "execution_count": 2,
     "metadata": {},
     "output_type": "execute_result"
    }
   ],
   "source": [
    "type(jnp.array([1,2]).copy())"
   ]
  },
  {
   "cell_type": "code",
   "execution_count": 3,
   "id": "6458d126",
   "metadata": {},
   "outputs": [
    {
     "data": {
      "text/plain": [
       "Arraytainer({'mean': array([1.], dtype=float32), 'chol_diag': array([1], dtype=int32), 'chol_lowerdiag': array([0], dtype=int32)})"
      ]
     },
     "execution_count": 3,
     "metadata": {},
     "output_type": "execute_result"
    }
   ],
   "source": [
    "a = Arraytainer({'mean': jnp.array([1.]), 'chol_diag': jnp.array([1]), 'chol_lowerdiag': jnp.array([0])})#{'a': {'c':[np.random.rand(6,3,5,2)], 'd':np.random.rand(6,3,5,2)}, 'b': np.random.rand(3,3,5,5), 'e':2}\n",
    "a"
   ]
  },
  {
   "cell_type": "code",
   "execution_count": 10,
   "id": "b7ee95b9",
   "metadata": {},
   "outputs": [
    {
     "data": {
      "text/plain": [
       "Jaxtainer({'mean': DeviceArray([1.], dtype=float32), 'chol_diag': DeviceArray([1], dtype=int32), 'chol_lowerdiag': DeviceArray([0], dtype=int32)})"
      ]
     },
     "execution_count": 10,
     "metadata": {},
     "output_type": "execute_result"
    }
   ],
   "source": [
    "a = Jaxtainer({'mean': np.array([1.]), 'chol_diag': np.array([1]), 'chol_lowerdiag': np.array([0])})#{'a': {'c':[np.random.rand(6,3,5,2)], 'd':np.random.rand(6,3,5,2)}, 'b': np.random.rand(3,3,5,5), 'e':2}\n",
    "a"
   ]
  },
  {
   "cell_type": "code",
   "execution_count": 5,
   "id": "fb91448c",
   "metadata": {},
   "outputs": [],
   "source": [
    "a = {'a': np.random.rand(4,3,5,5), 'b': np.random.rand(3,3,5,5)}\n",
    "A = Jaxtainer(a)\n",
    "# A.reshape(A.shape[:-2], 25)"
   ]
  },
  {
   "cell_type": "code",
   "execution_count": 6,
   "id": "d4bc4d5b",
   "metadata": {},
   "outputs": [
    {
     "data": {
      "text/plain": [
       "Jaxtainer({'a': DeviceArray([4, 3, 5, 5], dtype=int32), 'b': DeviceArray([3, 3, 5, 5], dtype=int32)})"
      ]
     },
     "execution_count": 6,
     "metadata": {},
     "output_type": "execute_result"
    }
   ],
   "source": [
    "A.shape"
   ]
  },
  {
   "cell_type": "code",
   "execution_count": 7,
   "id": "221586b7",
   "metadata": {
    "scrolled": true
   },
   "outputs": [
    {
     "data": {
      "text/plain": [
       "Jaxtainer({'a': DeviceArray([12,  5], dtype=int32), 'b': DeviceArray([12,  5,  5], dtype=int32)})"
      ]
     },
     "execution_count": 7,
     "metadata": {},
     "output_type": "execute_result"
    }
   ],
   "source": [
    "a = {'a': np.random.rand(4,3,5), 'b': np.random.rand(3,4,5,5)}\n",
    "A = Jaxtainer(a)\n",
    "A.reshape(12, A.shape[2:]).shape"
   ]
  },
  {
   "cell_type": "code",
   "execution_count": 8,
   "id": "6d622357",
   "metadata": {},
   "outputs": [
    {
     "data": {
      "text/plain": [
       "Jaxtainer({'a': DeviceArray([4, 3, 5], dtype=int32), 'b': DeviceArray([3, 4, 5, 5], dtype=int32)})"
      ]
     },
     "execution_count": 8,
     "metadata": {},
     "output_type": "execute_result"
    }
   ],
   "source": [
    "Jaxtainer.from_array(A.flatten(), A.shape).shape"
   ]
  },
  {
   "cell_type": "code",
   "execution_count": 9,
   "id": "e4c23677",
   "metadata": {},
   "outputs": [
    {
     "data": {
      "text/plain": [
       "array([2])"
      ]
     },
     "execution_count": 9,
     "metadata": {},
     "output_type": "execute_result"
    }
   ],
   "source": [
    "np.array(2)[None]"
   ]
  },
  {
   "cell_type": "code",
   "execution_count": null,
   "id": "831035ae",
   "metadata": {},
   "outputs": [],
   "source": []
  }
 ],
 "metadata": {
  "kernelspec": {
   "display_name": "Python 3 (ipykernel)",
   "language": "python",
   "name": "python3"
  },
  "language_info": {
   "codemirror_mode": {
    "name": "ipython",
    "version": 3
   },
   "file_extension": ".py",
   "mimetype": "text/x-python",
   "name": "python",
   "nbconvert_exporter": "python",
   "pygments_lexer": "ipython3",
   "version": "3.8.10"
  }
 },
 "nbformat": 4,
 "nbformat_minor": 5
}
