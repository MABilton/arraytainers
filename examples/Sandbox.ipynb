{
 "cells": [
  {
   "cell_type": "code",
   "execution_count": 1,
   "id": "b821c3fa",
   "metadata": {},
   "outputs": [],
   "source": [
    "from arraytainers import Numpytainer, Jaxtainer\n",
    "import numpy as np\n",
    "from numpy import array\n",
    "import jax\n",
    "import jax.numpy as jnp\n",
    "import functools\n",
    "from jax.numpy import DeviceArray"
   ]
  },
  {
   "cell_type": "code",
   "execution_count": 3,
   "id": "6458d126",
   "metadata": {},
   "outputs": [
    {
     "name": "stdout",
     "output_type": "stream",
     "text": [
      "mean\n",
      "chol_diag\n",
      "chol_lowerdiag\n",
      "mean\n",
      "chol_diag\n",
      "chol_lowerdiag\n",
      "mean\n",
      "chol_diag\n",
      "chol_lowerdiag\n",
      "mean\n",
      "chol_diag\n",
      "chol_lowerdiag\n"
     ]
    },
    {
     "data": {
      "text/plain": [
       "Numpytainer({'mean': array([2.71828183]), 'chol_diag': array([2.71828183]), 'chol_lowerdiag': array([1.])})"
      ]
     },
     "execution_count": 3,
     "metadata": {},
     "output_type": "execute_result"
    }
   ],
   "source": [
    "a = Numpytainer({'mean': jnp.array([1]), 'chol_diag': jnp.array([1]), 'chol_lowerdiag': jnp.array([0])})#{'a': {'c':[np.random.rand(6,3,5,2)], 'd':np.random.rand(6,3,5,2)}, 'b': np.random.rand(3,3,5,5), 'e':2}\n",
    "# A = Numpytainer(a)\n",
    "np.ones(a)"
   ]
  },
  {
   "cell_type": "code",
   "execution_count": null,
   "id": "463c73dc",
   "metadata": {},
   "outputs": [],
   "source": [
    "A.filter(['c'], 'a').shape"
   ]
  },
  {
   "cell_type": "code",
   "execution_count": null,
   "id": "fb91448c",
   "metadata": {},
   "outputs": [],
   "source": [
    "a = {'a': np.random.rand(4,3,5,5), 'b': np.random.rand(3,3,5,5)}\n",
    "A = Jaxtainer(a)\n",
    "A.reshape(A.shape[:-2], 25).shape"
   ]
  },
  {
   "cell_type": "code",
   "execution_count": null,
   "id": "221586b7",
   "metadata": {},
   "outputs": [],
   "source": [
    "a = {'a': np.random.rand(4,3,5), 'b': np.random.rand(3,4,5,5)}\n",
    "A = Jaxtainer(a)\n",
    "A.reshape(12, A.shape[2:]).shape"
   ]
  },
  {
   "cell_type": "code",
   "execution_count": null,
   "id": "6d622357",
   "metadata": {},
   "outputs": [],
   "source": []
  }
 ],
 "metadata": {
  "kernelspec": {
   "display_name": "Python 3 (ipykernel)",
   "language": "python",
   "name": "python3"
  },
  "language_info": {
   "codemirror_mode": {
    "name": "ipython",
    "version": 3
   },
   "file_extension": ".py",
   "mimetype": "text/x-python",
   "name": "python",
   "nbconvert_exporter": "python",
   "pygments_lexer": "ipython3",
   "version": "3.8.10"
  }
 },
 "nbformat": 4,
 "nbformat_minor": 5
}
