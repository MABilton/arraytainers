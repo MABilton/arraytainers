{
 "cells": [
  {
   "cell_type": "code",
   "execution_count": 2,
   "id": "74c7ac36-92e5-4241-8242-4e27e37caa4f",
   "metadata": {},
   "outputs": [
    {
     "name": "stdout",
     "output_type": "stream",
     "text": [
      "Defaulting to user installation because normal site-packages is not writeable\n",
      "Requirement already satisfied: jaxlib in /home/mabilton/.local/lib/python3.10/site-packages (0.1.75)\n",
      "Collecting jaxlib\n",
      "  Using cached jaxlib-0.3.10-cp310-none-manylinux2014_x86_64.whl (69.0 MB)\n",
      "Requirement already satisfied: absl-py in /home/mabilton/.local/lib/python3.10/site-packages (from jaxlib) (1.1.0)\n",
      "Requirement already satisfied: numpy>=1.19 in /home/mabilton/.local/lib/python3.10/site-packages (from jaxlib) (1.22.4)\n",
      "Requirement already satisfied: scipy in /home/mabilton/.local/lib/python3.10/site-packages (from jaxlib) (1.8.1)\n",
      "Requirement already satisfied: flatbuffers<3.0,>=1.12 in /home/mabilton/.local/lib/python3.10/site-packages (from jaxlib) (2.0)\n",
      "Installing collected packages: jaxlib\n",
      "  Attempting uninstall: jaxlib\n",
      "    Found existing installation: jaxlib 0.1.75\n",
      "    Uninstalling jaxlib-0.1.75:\n",
      "      Successfully uninstalled jaxlib-0.1.75\n",
      "\u001b[31mERROR: pip's dependency resolver does not currently take into account all the packages that are installed. This behaviour is the source of the following dependency conflicts.\n",
      "surrojax-gp 0.0.0 requires jax==0.2.25, but you have jax 0.3.13 which is incompatible.\n",
      "surrojax-gp 0.0.0 requires jaxlib==0.1.75, but you have jaxlib 0.3.10 which is incompatible.\u001b[0m\u001b[31m\n",
      "\u001b[0mSuccessfully installed jaxlib-0.3.10\n"
     ]
    }
   ],
   "source": [
    "!pip install --upgrade jaxlib"
   ]
  },
  {
   "cell_type": "code",
   "execution_count": 4,
   "id": "01715eb8-225d-453b-94c5-97c5c7966c80",
   "metadata": {},
   "outputs": [],
   "source": [
    "import jax\n",
    "import jax.numpy as jnp\n",
    "import numpy as np"
   ]
  },
  {
   "cell_type": "code",
   "execution_count": 5,
   "id": "b821c3fa",
   "metadata": {},
   "outputs": [],
   "source": [
    "from arraytainers import Arraytainer, Jaxtainer"
   ]
  },
  {
   "cell_type": "code",
   "execution_count": 6,
   "id": "dc32bf4b-2631-4d13-bbb4-4f7d7af2aea0",
   "metadata": {},
   "outputs": [],
   "source": [
    "a = Arraytainer({'a': (1,1), 'b':(2,1)})"
   ]
  },
  {
   "cell_type": "code",
   "execution_count": 9,
   "id": "770433ea-1420-4416-ac82-f754b4bced38",
   "metadata": {},
   "outputs": [
    {
     "data": {
      "text/plain": [
       "Arraytainer({'a': array([1, 1, 1]), 'b': array([1, 2, 1])})"
      ]
     },
     "execution_count": 9,
     "metadata": {},
     "output_type": "execute_result"
    }
   ],
   "source": [
    "np.concatenate((np.array([1]), a))"
   ]
  },
  {
   "cell_type": "code",
   "execution_count": 2,
   "id": "94add1a3-9c8b-4214-9373-560fc259467e",
   "metadata": {},
   "outputs": [
    {
     "ename": "NameError",
     "evalue": "name 'jnp' is not defined",
     "output_type": "error",
     "traceback": [
      "\u001b[0;31m---------------------------------------------------------------------------\u001b[0m",
      "\u001b[0;31mNameError\u001b[0m                                 Traceback (most recent call last)",
      "Input \u001b[0;32mIn [2]\u001b[0m, in \u001b[0;36m<cell line: 1>\u001b[0;34m()\u001b[0m\n\u001b[0;32m----> 1\u001b[0m value_structured \u001b[38;5;241m=\u001b[39m {\u001b[38;5;124m'\u001b[39m\u001b[38;5;124ma\u001b[39m\u001b[38;5;124m'\u001b[39m: \u001b[43mjnp\u001b[49m\u001b[38;5;241m.\u001b[39marray(\u001b[38;5;241m1.\u001b[39m), \u001b[38;5;241m0\u001b[39m:(\u001b[38;5;241m2.\u001b[39m, \u001b[38;5;241m3.\u001b[39m)}\n\u001b[1;32m      2\u001b[0m value_flat, value_tree \u001b[38;5;241m=\u001b[39m jax\u001b[38;5;241m.\u001b[39mtree_flatten(value_structured)\n",
      "\u001b[0;31mNameError\u001b[0m: name 'jnp' is not defined"
     ]
    }
   ],
   "source": [
    "value_structured = {'a': jnp.array(1.), 0:(2., 3.)}\n",
    "value_flat, value_tree = jax.tree_flatten(value_structured)"
   ]
  },
  {
   "cell_type": "code",
   "execution_count": null,
   "id": "bc09f9c6-1852-47f8-aa95-acc7f1834838",
   "metadata": {},
   "outputs": [],
   "source": []
  },
  {
   "cell_type": "code",
   "execution_count": 15,
   "id": "7155a84c-a66f-4f3d-8e04-bf39a2b470b6",
   "metadata": {},
   "outputs": [
    {
     "data": {
      "text/plain": [
       "([DeviceArray([[1., 2.],\n",
       "               [3., 4.]], dtype=float32),\n",
       "  DeviceArray([3., 4.], dtype=float32)],\n",
       " PyTreeDef({'0': *, 'a': *}))"
      ]
     },
     "execution_count": 15,
     "metadata": {},
     "output_type": "execute_result"
    }
   ],
   "source": [
    "jax.tree_flatten({'a': jnp.array([3., 4.]), '0': jnp.array([[1., 2.],[3., 4.]]) })"
   ]
  },
  {
   "cell_type": "code",
   "execution_count": 4,
   "id": "5f455c23-489e-44c5-b70f-9d363f11fe19",
   "metadata": {},
   "outputs": [
    {
     "name": "stderr",
     "output_type": "stream",
     "text": [
      "WARNING:absl:No GPU/TPU found, falling back to CPU. (Set TF_CPP_MIN_LOG_LEVEL=0 and rerun for more info.)\n"
     ]
    },
    {
     "ename": "TypeError",
     "evalue": "'<' not supported between instances of 'int' and 'str'",
     "output_type": "error",
     "traceback": [
      "\u001b[0;31m---------------------------------------------------------------------------\u001b[0m",
      "\u001b[0;31mTypeError\u001b[0m                                 Traceback (most recent call last)",
      "Input \u001b[0;32mIn [4]\u001b[0m, in \u001b[0;36m<cell line: 4>\u001b[0;34m()\u001b[0m\n\u001b[1;32m      2\u001b[0m vmapped_func \u001b[38;5;241m=\u001b[39m jax\u001b[38;5;241m.\u001b[39mvmap(func, in_axes\u001b[38;5;241m=\u001b[39m\u001b[38;5;241m0\u001b[39m)\n\u001b[1;32m      3\u001b[0m jaxtainer \u001b[38;5;241m=\u001b[39m Jaxtainer({\u001b[38;5;124m'\u001b[39m\u001b[38;5;124ma\u001b[39m\u001b[38;5;124m'\u001b[39m: jnp\u001b[38;5;241m.\u001b[39marray([\u001b[38;5;241m3\u001b[39m, \u001b[38;5;241m4\u001b[39m]), \u001b[38;5;241m0\u001b[39m: jnp\u001b[38;5;241m.\u001b[39marray([[\u001b[38;5;241m1\u001b[39m, \u001b[38;5;241m2\u001b[39m],[\u001b[38;5;241m3\u001b[39m, \u001b[38;5;241m4\u001b[39m]])})\n\u001b[0;32m----> 4\u001b[0m output \u001b[38;5;241m=\u001b[39m \u001b[43mvmapped_func\u001b[49m\u001b[43m(\u001b[49m\u001b[43mjaxtainer\u001b[49m\u001b[43m)\u001b[49m\n",
      "    \u001b[0;31m[... skipping hidden 3 frame]\u001b[0m\n",
      "File \u001b[0;32m~/.local/lib/python3.10/site-packages/arraytainers/jaxtainer.py:98\u001b[0m, in \u001b[0;36mJaxtainer.tree_flatten\u001b[0;34m(self)\u001b[0m\n\u001b[1;32m     97\u001b[0m \u001b[38;5;28;01mdef\u001b[39;00m \u001b[38;5;21mtree_flatten\u001b[39m(\u001b[38;5;28mself\u001b[39m):\n\u001b[0;32m---> 98\u001b[0m     \u001b[38;5;28;01mreturn\u001b[39;00m \u001b[43mjax\u001b[49m\u001b[38;5;241;43m.\u001b[39;49m\u001b[43mtree_util\u001b[49m\u001b[38;5;241;43m.\u001b[39;49m\u001b[43mtree_flatten\u001b[49m\u001b[43m(\u001b[49m\u001b[38;5;28;43mself\u001b[39;49m\u001b[38;5;241;43m.\u001b[39;49m\u001b[43munpack\u001b[49m\u001b[43m(\u001b[49m\u001b[43m)\u001b[49m\u001b[43m)\u001b[49m\n",
      "File \u001b[0;32m~/.local/lib/python3.10/site-packages/jax/_src/tree_util.py:52\u001b[0m, in \u001b[0;36mtree_flatten\u001b[0;34m(tree, is_leaf)\u001b[0m\n\u001b[1;32m     38\u001b[0m \u001b[38;5;28;01mdef\u001b[39;00m \u001b[38;5;21mtree_flatten\u001b[39m(tree, is_leaf: Optional[Callable[[Any], \u001b[38;5;28mbool\u001b[39m]] \u001b[38;5;241m=\u001b[39m \u001b[38;5;28;01mNone\u001b[39;00m):\n\u001b[1;32m     39\u001b[0m   \u001b[38;5;124;03m\"\"\"Flattens a pytree.\u001b[39;00m\n\u001b[1;32m     40\u001b[0m \n\u001b[1;32m     41\u001b[0m \u001b[38;5;124;03m  Args:\u001b[39;00m\n\u001b[0;32m   (...)\u001b[0m\n\u001b[1;32m     50\u001b[0m \u001b[38;5;124;03m    element is a treedef representing the structure of the flattened tree.\u001b[39;00m\n\u001b[1;32m     51\u001b[0m \u001b[38;5;124;03m  \"\"\"\u001b[39;00m\n\u001b[0;32m---> 52\u001b[0m   \u001b[38;5;28;01mreturn\u001b[39;00m \u001b[43mpytree\u001b[49m\u001b[38;5;241;43m.\u001b[39;49m\u001b[43mflatten\u001b[49m\u001b[43m(\u001b[49m\u001b[43mtree\u001b[49m\u001b[43m,\u001b[49m\u001b[43m \u001b[49m\u001b[43mis_leaf\u001b[49m\u001b[43m)\u001b[49m\n",
      "\u001b[0;31mTypeError\u001b[0m: '<' not supported between instances of 'int' and 'str'"
     ]
    }
   ],
   "source": [
    "func = lambda x: x[0]**2 + np.log(x[0])\n",
    "vmapped_func = jax.vmap(func, in_axes=0)\n",
    "jaxtainer = Jaxtainer({'a': jnp.array([3, 4]), 0: jnp.array([[1, 2],[3, 4]])})\n",
    "output = vmapped_func(jaxtainer)"
   ]
  },
  {
   "cell_type": "code",
   "execution_count": 5,
   "id": "a0f91814-d1e8-442b-8b5d-723513359094",
   "metadata": {},
   "outputs": [],
   "source": [
    "val = Arraytainer({'a': 'C', 'b': [{'a': 'F'}]}, array_conversions=False)"
   ]
  },
  {
   "cell_type": "code",
   "execution_count": 6,
   "id": "36f98fa6-204b-494b-b546-e81eeb993870",
   "metadata": {},
   "outputs": [
    {
     "data": {
      "text/plain": [
       "array(['C', 'F'], dtype='<U1')"
      ]
     },
     "execution_count": 6,
     "metadata": {},
     "output_type": "execute_result"
    }
   ],
   "source": [
    "val.flatten()"
   ]
  },
  {
   "cell_type": "code",
   "execution_count": 6,
   "id": "d1941f75-d678-4ea2-95bf-15501721505c",
   "metadata": {},
   "outputs": [
    {
     "name": "stdout",
     "output_type": "stream",
     "text": [
      "Arraytainer({'a': 'C', 'b': [{'a': array('F', dtype='<U1')}]})\n",
      "False\n",
      "a\n"
     ]
    },
    {
     "data": {
      "text/plain": [
       "Arraytainer({'a': 'C', 'b': [{'a': array('F', dtype='<U1')}]})"
      ]
     },
     "execution_count": 6,
     "metadata": {},
     "output_type": "execute_result"
    }
   ],
   "source": [
    "val._recursive_arraytainer_conversion(val, dtype=None, array_conversions=False)"
   ]
  },
  {
   "cell_type": "code",
   "execution_count": null,
   "id": "eaabfe75-6b8d-4eab-80cd-325a44210b2a",
   "metadata": {},
   "outputs": [],
   "source": []
  }
 ],
 "metadata": {
  "kernelspec": {
   "display_name": "Python 3 (ipykernel)",
   "language": "python",
   "name": "python3"
  },
  "language_info": {
   "codemirror_mode": {
    "name": "ipython",
    "version": 3
   },
   "file_extension": ".py",
   "mimetype": "text/x-python",
   "name": "python",
   "nbconvert_exporter": "python",
   "pygments_lexer": "ipython3",
   "version": "3.10.4"
  }
 },
 "nbformat": 4,
 "nbformat_minor": 5
}
