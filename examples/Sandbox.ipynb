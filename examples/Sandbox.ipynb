{
 "cells": [
  {
   "cell_type": "code",
   "execution_count": 1,
   "id": "b821c3fa",
   "metadata": {},
   "outputs": [],
   "source": [
    "from arraytainers import Numpytainer, Jaxtainer\n",
    "import numpy as np\n",
    "from numpy import array\n",
    "import jax\n",
    "import jax.numpy as jnp\n",
    "import functools\n",
    "from jax.numpy import DeviceArray"
   ]
  },
  {
   "cell_type": "code",
   "execution_count": 33,
   "id": "bc18d3f4",
   "metadata": {},
   "outputs": [
    {
     "data": {
      "text/plain": [
       "Numpytainer({'a': {'c': [array([6, 3, 5, 2])], 'd': array([6, 3, 5, 2])}, 'b': array([1, 3, 3, 5, 5])})"
      ]
     },
     "execution_count": 33,
     "metadata": {},
     "output_type": "execute_result"
    }
   ],
   "source": [
    "A[{'a':['c', 'd'], 'b': None}].shape"
   ]
  },
  {
   "cell_type": "code",
   "execution_count": 29,
   "id": "6458d126",
   "metadata": {},
   "outputs": [],
   "source": [
    "a = {'a': {'c':[np.random.rand(6,3,5,2)], 'd':np.random.rand(6,3,5,2)}, 'b': np.random.rand(3,3,5,5), 'e':2}\n",
    "A = Numpytainer(a)\n",
    "# A.reshape(A.shape[:1], 15, A.shape[-1:]).shape"
   ]
  },
  {
   "cell_type": "code",
   "execution_count": 3,
   "id": "fb91448c",
   "metadata": {},
   "outputs": [
    {
     "data": {
      "text/plain": [
       "Jaxtainer({'a': DeviceArray([ 4,  3, 25], dtype=int32), 'b': DeviceArray([ 3,  3, 25], dtype=int32)})"
      ]
     },
     "execution_count": 3,
     "metadata": {},
     "output_type": "execute_result"
    }
   ],
   "source": [
    "a = {'a': np.random.rand(4,3,5,5), 'b': np.random.rand(3,3,5,5)}\n",
    "A = Jaxtainer(a)\n",
    "A.reshape(A.shape[:-2], 25).shape"
   ]
  },
  {
   "cell_type": "code",
   "execution_count": 4,
   "id": "221586b7",
   "metadata": {},
   "outputs": [
    {
     "data": {
      "text/plain": [
       "Jaxtainer({'a': DeviceArray([12,  5], dtype=int32), 'b': DeviceArray([12,  5,  5], dtype=int32)})"
      ]
     },
     "execution_count": 4,
     "metadata": {},
     "output_type": "execute_result"
    }
   ],
   "source": [
    "a = {'a': np.random.rand(4,3,5), 'b': np.random.rand(3,4,5,5)}\n",
    "A = Jaxtainer(a)\n",
    "A.reshape(12, A.shape[2:]).shape"
   ]
  },
  {
   "cell_type": "code",
   "execution_count": null,
   "id": "6d622357",
   "metadata": {},
   "outputs": [],
   "source": []
  }
 ],
 "metadata": {
  "kernelspec": {
   "display_name": "Python 3 (ipykernel)",
   "language": "python",
   "name": "python3"
  },
  "language_info": {
   "codemirror_mode": {
    "name": "ipython",
    "version": 3
   },
   "file_extension": ".py",
   "mimetype": "text/x-python",
   "name": "python",
   "nbconvert_exporter": "python",
   "pygments_lexer": "ipython3",
   "version": "3.8.10"
  }
 },
 "nbformat": 4,
 "nbformat_minor": 5
}
