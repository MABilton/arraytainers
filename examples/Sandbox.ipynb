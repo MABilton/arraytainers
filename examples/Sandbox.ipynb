{
 "cells": [
  {
   "cell_type": "code",
   "execution_count": 1,
   "id": "01715eb8-225d-453b-94c5-97c5c7966c80",
   "metadata": {},
   "outputs": [],
   "source": [
    "import jax\n",
    "import jax.numpy as jnp\n",
    "import numpy as np"
   ]
  },
  {
   "cell_type": "code",
   "execution_count": 2,
   "id": "b821c3fa",
   "metadata": {},
   "outputs": [],
   "source": [
    "from arraytainers import Arraytainer, Jaxtainer"
   ]
  },
  {
   "cell_type": "code",
   "execution_count": 3,
   "id": "e745d085-57f0-4a48-86a9-5e9377b3d09f",
   "metadata": {},
   "outputs": [
    {
     "name": "stderr",
     "output_type": "stream",
     "text": [
      "WARNING:absl:No GPU/TPU found, falling back to CPU. (Set TF_CPP_MIN_LOG_LEVEL=0 and rerun for more info.)\n"
     ]
    },
    {
     "data": {
      "text/plain": [
       "[DeviceArray(1, dtype=int32, weak_type=True)]"
      ]
     },
     "execution_count": 3,
     "metadata": {},
     "output_type": "execute_result"
    }
   ],
   "source": [
    "import copy\n",
    "copy.copy([jnp.array(1)])"
   ]
  },
  {
   "cell_type": "code",
   "execution_count": 4,
   "id": "a0f91814-d1e8-442b-8b5d-723513359094",
   "metadata": {},
   "outputs": [
    {
     "name": "stdout",
     "output_type": "stream",
     "text": [
      "{'a': 'C', 'b': [{'a': 'F'}]}\n",
      "False\n",
      "b\n",
      "[{'a': 'F'}]\n",
      "False\n",
      "b\n",
      "{'a': 'F'}\n",
      "False\n",
      "{'a': 'F'}\n",
      "False\n",
      "{'a': 'F'}\n",
      "True\n",
      "c\n",
      "[Arraytainer({'a': array('F', dtype='<U1')})]\n",
      "False\n",
      "a\n"
     ]
    }
   ],
   "source": [
    "val = Arraytainer({'a': 'C', 'b': [{'a': 'F'}]}, array_conversions=False)"
   ]
  },
  {
   "cell_type": "code",
   "execution_count": 5,
   "id": "36f98fa6-204b-494b-b546-e81eeb993870",
   "metadata": {},
   "outputs": [
    {
     "data": {
      "text/plain": [
       "Arraytainer({'a': 'C', 'b': [{'a': array('F', dtype='<U1')}]})"
      ]
     },
     "execution_count": 5,
     "metadata": {},
     "output_type": "execute_result"
    }
   ],
   "source": [
    "val"
   ]
  },
  {
   "cell_type": "code",
   "execution_count": 6,
   "id": "d1941f75-d678-4ea2-95bf-15501721505c",
   "metadata": {},
   "outputs": [
    {
     "name": "stdout",
     "output_type": "stream",
     "text": [
      "Arraytainer({'a': 'C', 'b': [{'a': array('F', dtype='<U1')}]})\n",
      "False\n",
      "a\n"
     ]
    },
    {
     "data": {
      "text/plain": [
       "Arraytainer({'a': 'C', 'b': [{'a': array('F', dtype='<U1')}]})"
      ]
     },
     "execution_count": 6,
     "metadata": {},
     "output_type": "execute_result"
    }
   ],
   "source": [
    "val._recursive_arraytainer_conversion(val, dtype=None, array_conversions=False)"
   ]
  },
  {
   "cell_type": "code",
   "execution_count": null,
   "id": "eaabfe75-6b8d-4eab-80cd-325a44210b2a",
   "metadata": {},
   "outputs": [],
   "source": []
  }
 ],
 "metadata": {
  "kernelspec": {
   "display_name": "Python 3 (ipykernel)",
   "language": "python",
   "name": "python3"
  },
  "language_info": {
   "codemirror_mode": {
    "name": "ipython",
    "version": 3
   },
   "file_extension": ".py",
   "mimetype": "text/x-python",
   "name": "python",
   "nbconvert_exporter": "python",
   "pygments_lexer": "ipython3",
   "version": "3.10.4"
  }
 },
 "nbformat": 4,
 "nbformat_minor": 5
}
