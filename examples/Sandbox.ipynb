{
 "cells": [
  {
   "cell_type": "code",
   "execution_count": 1,
   "id": "01715eb8-225d-453b-94c5-97c5c7966c80",
   "metadata": {},
   "outputs": [],
   "source": [
    "import jax\n",
    "import jax.numpy as jnp\n",
    "import numpy as np"
   ]
  },
  {
   "cell_type": "code",
   "execution_count": 2,
   "id": "b821c3fa",
   "metadata": {},
   "outputs": [],
   "source": [
    "from arraytainers import Arraytainer, Jaxtainer"
   ]
  },
  {
   "cell_type": "code",
   "execution_count": 6,
   "id": "89070b2e-8c74-430a-9f22-1b166ae800e0",
   "metadata": {},
   "outputs": [
    {
     "data": {
      "text/plain": [
       "Arraytainer({})"
      ]
     },
     "execution_count": 6,
     "metadata": {},
     "output_type": "execute_result"
    }
   ],
   "source": [
    "A = Arraytainer({'a': np.array([[1,2],[3,4]]), 'b': np.array([[5,6],[7,8]])})\n",
    "B = Arraytainer({'a': np.array([True, False])})\n",
    "A[B]"
   ]
  },
  {
   "cell_type": "code",
   "execution_count": 3,
   "id": "f4f630d3-aef4-41ca-b797-11ae50455f57",
   "metadata": {},
   "outputs": [
    {
     "data": {
      "text/plain": [
       "Arraytainer([{'a': array(1), 1: array(2)}, {0: array(3), 1: array(4), 'a': {0: array(5)}}, [array(6), array(7), {'a': array(8), 'b': array(9)}]])"
      ]
     },
     "execution_count": 3,
     "metadata": {},
     "output_type": "execute_result"
    }
   ],
   "source": [
    "A = Arraytainer([{'a':1, 1:2}, {0:3, 1:4, 'a':{0:5}}, [6, 7, {'a':8, 'b':9}]])\n",
    "A"
   ]
  },
  {
   "cell_type": "code",
   "execution_count": 6,
   "id": "74ae5f31-0d29-4b5c-b74c-c43f3d7ff150",
   "metadata": {},
   "outputs": [
    {
     "data": {
      "text/plain": [
       "int"
      ]
     },
     "execution_count": 6,
     "metadata": {},
     "output_type": "execute_result"
    }
   ],
   "source": [
    "B = Jaxtainer([{'a':1, 1:2}, {0:3, 1:4, 'a':{0:5}}, [6, 7, {'a':8, 'b':9}]])\n",
    "type(B[0]['a'])"
   ]
  },
  {
   "cell_type": "code",
   "execution_count": 6,
   "id": "fb198c1b-7511-46c5-981a-bcad5c0eaf08",
   "metadata": {},
   "outputs": [],
   "source": [
    "A = Arraytainer({'a': -1*np.ones((2,2)), 'b': np.ones((2,2))})\n",
    "B = Arraytainer({'a': np.array([[True, False],[True, False]]), 'b': np.array([True, False])})\n",
    "C = Arraytainer({'a': 2, 'b': np.array([3,4])})"
   ]
  },
  {
   "cell_type": "code",
   "execution_count": 7,
   "id": "d8f305a3-77fe-47b3-8dcc-9b6d0a9118b3",
   "metadata": {},
   "outputs": [
    {
     "ename": "KeyError",
     "evalue": "'.'",
     "output_type": "error",
     "traceback": [
      "\u001b[0;31m---------------------------------------------------------------------------\u001b[0m",
      "\u001b[0;31mKeyError\u001b[0m                                  Traceback (most recent call last)",
      "Input \u001b[0;32mIn [7]\u001b[0m, in \u001b[0;36m<cell line: 1>\u001b[0;34m()\u001b[0m\n\u001b[0;32m----> 1\u001b[0m A[B] \u001b[38;5;241m=\u001b[39m C\n\u001b[1;32m      2\u001b[0m A\n",
      "File \u001b[0;32m~/.local/lib/python3.10/site-packages/arraytainers/arraytainer.py:106\u001b[0m, in \u001b[0;36mArraytainer.__setitem__\u001b[0;34m(self, key, new_val)\u001b[0m\n\u001b[1;32m    104\u001b[0m     \u001b[38;5;28mself\u001b[39m\u001b[38;5;241m.\u001b[39m_set_with_array(key, new_val)\n\u001b[1;32m    105\u001b[0m \u001b[38;5;28;01melif\u001b[39;00m \u001b[38;5;28misinstance\u001b[39m(key, Arraytainer):\n\u001b[0;32m--> 106\u001b[0m     \u001b[38;5;28;43mself\u001b[39;49m\u001b[38;5;241;43m.\u001b[39;49m\u001b[43m_set_with_arraytainer\u001b[49m\u001b[43m(\u001b[49m\u001b[43mkey\u001b[49m\u001b[43m,\u001b[49m\u001b[43m \u001b[49m\u001b[43mnew_val\u001b[49m\u001b[43m)\u001b[49m\n\u001b[1;32m    107\u001b[0m \u001b[38;5;28;01melse\u001b[39;00m:\n\u001b[1;32m    108\u001b[0m     \u001b[38;5;28mself\u001b[39m\u001b[38;5;241m.\u001b[39m_set_with_regular_key(key, new_val)\n",
      "File \u001b[0;32m~/.local/lib/python3.10/site-packages/arraytainers/arraytainer.py:333\u001b[0m, in \u001b[0;36mArraytainer._set_with_arraytainer\u001b[0;34m(self, arraytainer, new_val)\u001b[0m\n\u001b[1;32m    331\u001b[0m     \u001b[38;5;28mself\u001b[39m\u001b[38;5;241m.\u001b[39m_set_array_values(key, mask, new_val)\n\u001b[1;32m    332\u001b[0m \u001b[38;5;28;01melif\u001b[39;00m \u001b[38;5;28mself\u001b[39m\u001b[38;5;241m.\u001b[39mis_array(self_val) \u001b[38;5;129;01mand\u001b[39;00m \u001b[38;5;28misinstance\u001b[39m(new_val, Arraytainer):\n\u001b[0;32m--> 333\u001b[0m     \u001b[38;5;28;01mraise\u001b[39;00m \u001b[38;5;167;01mKeyError\u001b[39;00m(\u001b[38;5;124m'\u001b[39m\u001b[38;5;124m.\u001b[39m\u001b[38;5;124m'\u001b[39m)\n",
      "\u001b[0;31mKeyError\u001b[0m: '.'"
     ]
    }
   ],
   "source": [
    "A[B] = C\n",
    "A"
   ]
  },
  {
   "cell_type": "code",
   "execution_count": null,
   "id": "434a73f1-ecac-4b09-b936-2cf8691a7c01",
   "metadata": {},
   "outputs": [],
   "source": []
  },
  {
   "cell_type": "code",
   "execution_count": 3,
   "id": "f3d3b9a2-3f79-41a9-b154-a7d683c851d9",
   "metadata": {},
   "outputs": [
    {
     "name": "stderr",
     "output_type": "stream",
     "text": [
      "WARNING:absl:No GPU/TPU found, falling back to CPU. (Set TF_CPP_MIN_LOG_LEVEL=0 and rerun for more info.)\n"
     ]
    },
    {
     "data": {
      "text/plain": [
       "DeviceArray([1.], dtype=float32)"
      ]
     },
     "execution_count": 3,
     "metadata": {},
     "output_type": "execute_result"
    }
   ],
   "source": [
    "A = Jaxtainer({'a': jnp.array([1])}, dtype=float)\n",
    "A[1] = 1\n",
    "A.first_array"
   ]
  },
  {
   "cell_type": "code",
   "execution_count": 4,
   "id": "b077a410-d309-4fbd-8875-502b61e43850",
   "metadata": {},
   "outputs": [
    {
     "data": {
      "text/plain": [
       "array(3)"
      ]
     },
     "execution_count": 4,
     "metadata": {},
     "output_type": "execute_result"
    }
   ],
   "source": [
    "A = Arraytainer({'a':[3, 2], 'b':[1, 2]}, dtype=int)\n",
    "B = Arraytainer({'b': np.array([3])}, dtype=float)\n",
    "A.first_array"
   ]
  },
  {
   "cell_type": "code",
   "execution_count": 5,
   "id": "73b92d30-305d-4e19-b87f-b6d85a6920c1",
   "metadata": {},
   "outputs": [
    {
     "data": {
      "text/plain": [
       "Arraytainer({'b': array([[3.]])})"
      ]
     },
     "execution_count": 5,
     "metadata": {},
     "output_type": "execute_result"
    }
   ],
   "source": [
    "B.reshape(1,B.shape)"
   ]
  },
  {
   "cell_type": "code",
   "execution_count": 6,
   "id": "27dc904d-8e98-40ea-b715-73e948bae463",
   "metadata": {},
   "outputs": [
    {
     "data": {
      "text/plain": [
       "[array([3.])]"
      ]
     },
     "execution_count": 6,
     "metadata": {},
     "output_type": "execute_result"
    }
   ],
   "source": [
    "list(B.values())"
   ]
  },
  {
   "cell_type": "code",
   "execution_count": 8,
   "id": "108a6b4a-b934-4545-becd-d0a42ecb202a",
   "metadata": {},
   "outputs": [
    {
     "data": {
      "text/plain": [
       "4"
      ]
     },
     "execution_count": 8,
     "metadata": {},
     "output_type": "execute_result"
    }
   ],
   "source": [
    "A.size"
   ]
  },
  {
   "cell_type": "code",
   "execution_count": 9,
   "id": "ea44ac80-f77f-4938-914f-46d3d812ba44",
   "metadata": {},
   "outputs": [
    {
     "ename": "AttributeError",
     "evalue": "'Arraytainer' object has no attribute 'max'",
     "output_type": "error",
     "traceback": [
      "\u001b[0;31m---------------------------------------------------------------------------\u001b[0m",
      "\u001b[0;31mAttributeError\u001b[0m                            Traceback (most recent call last)",
      "Input \u001b[0;32mIn [9]\u001b[0m, in \u001b[0;36m<cell line: 1>\u001b[0;34m()\u001b[0m\n\u001b[0;32m----> 1\u001b[0m \u001b[43mA\u001b[49m\u001b[38;5;241;43m.\u001b[39;49m\u001b[43mmax\u001b[49m()\n",
      "\u001b[0;31mAttributeError\u001b[0m: 'Arraytainer' object has no attribute 'max'"
     ]
    }
   ],
   "source": []
  },
  {
   "cell_type": "code",
   "execution_count": null,
   "id": "d1941f75-d678-4ea2-95bf-15501721505c",
   "metadata": {},
   "outputs": [],
   "source": []
  }
 ],
 "metadata": {
  "kernelspec": {
   "display_name": "Python 3 (ipykernel)",
   "language": "python",
   "name": "python3"
  },
  "language_info": {
   "codemirror_mode": {
    "name": "ipython",
    "version": 3
   },
   "file_extension": ".py",
   "mimetype": "text/x-python",
   "name": "python",
   "nbconvert_exporter": "python",
   "pygments_lexer": "ipython3",
   "version": "3.10.4"
  }
 },
 "nbformat": 4,
 "nbformat_minor": 5
}
