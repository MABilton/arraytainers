{
 "cells": [
  {
   "cell_type": "code",
   "execution_count": 1,
   "id": "b821c3fa",
   "metadata": {},
   "outputs": [],
   "source": [
    "from arraytainers import Numpytainer, Jaxtainer\n",
    "import numpy as np\n",
    "from numpy import array\n",
    "import jax\n",
    "import jax.numpy as jnp\n",
    "import functools\n",
    "from jax.numpy import DeviceArray"
   ]
  },
  {
   "cell_type": "code",
   "execution_count": 5,
   "id": "bd09052c",
   "metadata": {},
   "outputs": [
    {
     "data": {
      "text/plain": [
       "False"
      ]
     },
     "execution_count": 5,
     "metadata": {},
     "output_type": "execute_result"
    }
   ],
   "source": [
    "a = Jaxtainer([[array([[3.74540119, 9.50714306, 7.31993942],\n",
    "       [5.98658484, 1.5601864 , 1.5599452 ]]), array([[0.58083612, 8.66176146],\n",
    "       [6.01115012, 7.08072578],\n",
    "       [0.20584494, 9.69909852]])], array([[8.32442641, 2.12339111],\n",
    "       [1.81824967, 1.8340451 ]]), [array([[3.04242243],\n",
    "       [5.24756432]]), [array([[4.31945019, 2.9122914 ],\n",
    "       [6.11852895, 1.39493861]]), array([[2.92144649, 3.66361843],\n",
    "       [4.56069984, 7.85175961],\n",
    "       [1.99673782, 5.14234438]])]]])\n",
    "A = Jaxtainer.from_vector(a.flatten(), a.shape, order='F')\n",
    "(A == a).all()"
   ]
  },
  {
   "cell_type": "code",
   "execution_count": 3,
   "id": "2474cb8f",
   "metadata": {
    "scrolled": true
   },
   "outputs": [
    {
     "data": {
      "text/plain": [
       "array([3.74540119, 9.50714306, 7.31993942, 5.98658484, 1.5601864 ,\n",
       "       1.5599452 , 0.58083612, 8.66176146, 6.01115012, 7.08072578,\n",
       "       0.20584494, 9.69909852, 8.32442641, 2.12339111, 1.81824967,\n",
       "       1.8340451 , 3.04242243, 5.24756432, 4.31945019, 2.9122914 ,\n",
       "       6.11852895, 1.39493861, 2.92144649, 3.66361843, 4.56069984,\n",
       "       7.85175961, 1.99673782, 5.14234438])"
      ]
     },
     "execution_count": 3,
     "metadata": {},
     "output_type": "execute_result"
    }
   ],
   "source": [
    "a.flatten()"
   ]
  },
  {
   "cell_type": "code",
   "execution_count": 3,
   "id": "12c02c57",
   "metadata": {},
   "outputs": [
    {
     "data": {
      "text/plain": [
       "Jaxtainer([[DeviceArray([[3.7454011, 9.507143 , 7.3199396],\n",
       "             [5.9865847, 1.5601864, 1.5599452]], dtype=float32), DeviceArray([[0.5808361 , 8.661761  ],\n",
       "             [6.01115   , 7.0807257 ],\n",
       "             [0.20584494, 9.699099  ]], dtype=float32)], array([[8.32442665, 2.12339115],\n",
       "       [1.8182497 , 1.83404505]]), [DeviceArray([[3.0424225],\n",
       "             [5.2475643]], dtype=float32), [DeviceArray([[4.3194504, 2.9122913],\n",
       "             [6.118529 , 1.3949386]], dtype=float32), DeviceArray([[2.9214466, 3.6636183],\n",
       "             [4.5607   , 7.8517594],\n",
       "             [1.9967378, 5.1423445]], dtype=float32)]]])"
      ]
     },
     "execution_count": 3,
     "metadata": {},
     "output_type": "execute_result"
    }
   ],
   "source": [
    "A"
   ]
  },
  {
   "cell_type": "code",
   "execution_count": 8,
   "id": "6d7d6d3e",
   "metadata": {},
   "outputs": [
    {
     "data": {
      "text/plain": [
       "True"
      ]
     },
     "execution_count": 8,
     "metadata": {},
     "output_type": "execute_result"
    }
   ],
   "source": []
  },
  {
   "cell_type": "code",
   "execution_count": 2,
   "id": "ee01b3d4",
   "metadata": {},
   "outputs": [
    {
     "data": {
      "text/plain": [
       "Numpytainer([array([2, 3, 2]), [array([2, 1]), array([2, 2])]])"
      ]
     },
     "execution_count": 2,
     "metadata": {},
     "output_type": "execute_result"
    }
   ],
   "source": [
    "a =  [np.random.rand(2,3,2),[np.random.rand(2,1),np.random.rand(2,2)]] #{'a':2*np.random.rand(2,2), 'b':3*np.random.rand(3,3)}\n",
    "A = Numpytainer(a)\n",
    "A.shape"
   ]
  },
  {
   "cell_type": "code",
   "execution_count": 7,
   "id": "75315bff",
   "metadata": {},
   "outputs": [
    {
     "name": "stdout",
     "output_type": "stream",
     "text": [
      "Numpytainer({'a': array([[1., 1.],\n",
      "       [1., 1.]]), 'b': array([[1., 1., 1.],\n",
      "       [1., 1., 1.],\n",
      "       [1., 1., 1.]])})\n"
     ]
    },
    {
     "data": {
      "text/plain": [
       "Numpytainer({'a': array([[1., 1.],\n",
       "       [1., 1.]]), 'b': array([[1., 1., 1.],\n",
       "       [1., 1., 1.],\n",
       "       [1., 1., 1.]])})"
      ]
     },
     "execution_count": 7,
     "metadata": {},
     "output_type": "execute_result"
    }
   ],
   "source": [
    "a = {'a':np.ones((2,2)), 'b':np.ones([3,3])}\n",
    "A = Numpytainer(a)\n",
    "print(A)\n",
    "Numpytainer(A)"
   ]
  },
  {
   "cell_type": "code",
   "execution_count": 15,
   "id": "593b75cc",
   "metadata": {},
   "outputs": [
    {
     "data": {
      "text/plain": [
       "array([[1., 1.]])"
      ]
     },
     "execution_count": 15,
     "metadata": {},
     "output_type": "execute_result"
    }
   ],
   "source": [
    "np.ones((2,2))[(None,0)]"
   ]
  },
  {
   "cell_type": "code",
   "execution_count": null,
   "id": "f956c65d",
   "metadata": {},
   "outputs": [],
   "source": [
    "# b = {'a':{'e':{'c':np.ones((2,2))}}, 'b':{'e':{'d':np.ones([3,3])}}}\n",
    "b = {'a':{'c':np.ones((2,2))}, 'b':{'d':np.ones([3,3])}}\n",
    "B = Numpytainer(b)"
   ]
  },
  {
   "cell_type": "code",
   "execution_count": null,
   "id": "cbb00fac",
   "metadata": {},
   "outputs": [],
   "source": [
    "c = {'c':2, 'd':3}\n",
    "C = Numpytainer(c)\n",
    "B.apply(lambda x,y: y*x, skip_level=1, args=(C,))"
   ]
  },
  {
   "cell_type": "code",
   "execution_count": null,
   "id": "7090d2a3",
   "metadata": {},
   "outputs": [],
   "source": [
    "A.shape.apply(l)\n",
    "np.random.rand(*np.array([2,2]).tolist())"
   ]
  },
  {
   "cell_type": "code",
   "execution_count": null,
   "id": "b651b5f7",
   "metadata": {},
   "outputs": [],
   "source": [
    "a = {'a':{'c':np.ones((3,2)), 'd':np.ones((2,3))}, 'b':[{'b':np.ones((3,3))}, np.ones((1,9,1))]}\n",
    "A = Numpytainer(a)\n",
    "b = {'a':True, 'b':False} \n",
    "B = Numpytainer(b)\n",
    "\n",
    "A[B] = 2"
   ]
  },
  {
   "cell_type": "code",
   "execution_count": null,
   "id": "723f957d",
   "metadata": {},
   "outputs": [],
   "source": [
    "A"
   ]
  },
  {
   "cell_type": "code",
   "execution_count": null,
   "id": "558cd055",
   "metadata": {},
   "outputs": [],
   "source": []
  },
  {
   "cell_type": "code",
   "execution_count": null,
   "id": "15b024c9",
   "metadata": {},
   "outputs": [],
   "source": [
    "A.set_value((0,'a',), )"
   ]
  },
  {
   "cell_type": "code",
   "execution_count": null,
   "id": "6c1bc976",
   "metadata": {
    "scrolled": true
   },
   "outputs": [],
   "source": [
    "# a = [{'a':(1,2), 'b':[(2,3)]}]\n",
    "a = {'a':{'c':np.ones((3,2)), 'd':np.ones((2,3))}, 'b':[{'b':np.ones((3,3))}, np.ones((1,9,1))]}\n",
    "b = {'a':(6,1), 'b':(1,1,9)} \n",
    "A = Numpytainer(a)\n",
    "B = Numpytainer(b)\n",
    "A.reshape(B).shape"
   ]
  },
  {
   "cell_type": "code",
   "execution_count": null,
   "id": "b4f7c60a",
   "metadata": {},
   "outputs": [],
   "source": [
    "a = {'a':{'c':np.ones((3,2)), 'd':np.ones((3,2))}, 'b':[{'b':np.ones((4,4))}, np.ones((4,4))]}\n",
    "b = {'a':np.ones((3,1)), 'b':np.ones((1,4))}\n",
    "A = Numpytainer(a)\n",
    "B = Numpytainer(b)\n",
    "(A + B).shape"
   ]
  },
  {
   "cell_type": "code",
   "execution_count": null,
   "id": "c0338b48",
   "metadata": {},
   "outputs": [],
   "source": [
    "a = {'a':{'c':np.ones((3,2)), 'd':np.ones((3,2))}, 'b':[{'b':np.ones((4,4))}, np.ones((4,4))]}\n",
    "b = {'a':np.ones((2,3)), 'b':np.ones((4,6))}\n",
    "A = Numpytainer(a)\n",
    "B = Numpytainer(b)\n",
    "(A @ B).shape"
   ]
  },
  {
   "cell_type": "code",
   "execution_count": null,
   "id": "b47c5f1d",
   "metadata": {},
   "outputs": [],
   "source": [
    "# b = [{'a':np.ones((1,2)), 'b':[np.ones((2,3))]}]\n",
    "b = [{'a':np.ones((1,2,3,4)), 'b':[np.ones((2,3,4,5))]}]\n",
    "np.append(b, np.product(Numpytainer(b).shape[1:]))"
   ]
  },
  {
   "cell_type": "code",
   "execution_count": null,
   "id": "8403c87f",
   "metadata": {},
   "outputs": [],
   "source": [
    "from copy import deepcopy"
   ]
  },
  {
   "cell_type": "code",
   "execution_count": null,
   "id": "26b8cd24",
   "metadata": {},
   "outputs": [],
   "source": [
    "deepcopy(jnp.ones((1,2)))"
   ]
  },
  {
   "cell_type": "code",
   "execution_count": null,
   "id": "ac6665ed",
   "metadata": {},
   "outputs": [],
   "source": [
    "A.contents"
   ]
  },
  {
   "cell_type": "code",
   "execution_count": null,
   "id": "e6d36e91",
   "metadata": {},
   "outputs": [],
   "source": [
    "A = Jaxtainer([{'a':np.ones((1,2)), 'b':[np.ones((2,3))]}])\n",
    "B = Jaxtainer([{'a':(1,2), 'b':[(2,3)]}])\n",
    "assert_equal_values(A.shape.unpacked, B.unpacked, approx_equal=True)"
   ]
  },
  {
   "cell_type": "code",
   "execution_count": null,
   "id": "a71d1010",
   "metadata": {},
   "outputs": [],
   "source": [
    "def assert_equal_values(contents_1, contents_2, approx_equal=True):\n",
    "  \n",
    "    def assert_func(contents_1, contents_2):\n",
    "        print(contents_1, contents_2)\n",
    "        if approx_equal:\n",
    "          print(np.allclose(contents_1, contents_2, atol=1e-5, rtol=1e-5))\n",
    "            # Need to adjust atol and rtol because, by default, Jax uses 32 bit numbers which means,\n",
    "            # when compared to 64 bit Numpy computations, the default tolerances throw spurious errors:\n",
    "          assert np.allclose(contents_1, contents_2, atol=1e-5, rtol=1e-5)\n",
    "        else:\n",
    "          assert contents_1 == contents_2\n",
    "    apply_func_to_contents(contents_1, contents_2, func=assert_func, throw_exception=True)\n",
    "\n",
    "\n",
    "def apply_func_to_contents(*contents, func=None, args=(), kwargs=None, index_args=None, \n",
    "                            return_list=False, throw_exception=False):\n",
    "\n",
    "    try:\n",
    "        expected = call_func_recursive(contents, func, args, kwargs, index_args, return_list)\n",
    "        exception = None\n",
    "    except Exception as error:\n",
    "        if throw_exception:\n",
    "            raise error\n",
    "        else:\n",
    "            expected = None\n",
    "            exception = error\n",
    "\n",
    "    return (expected, exception)\n",
    "\n",
    "def call_func_recursive(contents, func, args, kwargs, index_args, return_list):\n",
    "    \n",
    "    first_item = contents[0]\n",
    "    if kwargs is None:\n",
    "      kwargs = {}\n",
    "\n",
    "    if index_args is None:\n",
    "        index_args = lambda args, idx : args\n",
    "\n",
    "    if isinstance(first_item, dict):\n",
    "        contents_i = {key: [item_i[key] for item_i in contents] for key in first_item.keys()}\n",
    "        result = {key: call_func_recursive(contents_i[key], func, index_args(args,key), kwargs, index_args, return_list) \n",
    "                  for key in first_item.keys()}\n",
    "        return list(result.values()) if return_list else result\n",
    "\n",
    "    elif isinstance(first_item, (tuple,list)):\n",
    "        contents_i = [[item_i[idx] for item_i in contents] for idx in range(len(first_item))]\n",
    "        return [call_func_recursive(contents_i[idx], func, index_args(args,idx), kwargs, index_args, return_list)  \n",
    "                for idx in range(len(first_item))]\n",
    "\n",
    "    else:\n",
    "        return func(*contents, *args, **kwargs)"
   ]
  },
  {
   "cell_type": "code",
   "execution_count": null,
   "id": "f727587e",
   "metadata": {},
   "outputs": [],
   "source": [
    "Jaxtainer({}).contents == Jaxtainer({}).shape.contents"
   ]
  },
  {
   "cell_type": "code",
   "execution_count": null,
   "id": "088d0aee",
   "metadata": {
    "scrolled": false
   },
   "outputs": [],
   "source": [
    "# a = [array([[3.74540119, 9.50714306, 7.31993942],\n",
    "#        [5.98658484, 1.5601864 , 1.5599452 ],\n",
    "#        [0.58083612, 8.66176146, 6.01115012]]), array([[3.74540119, 9.50714306],\n",
    "#        [7.31993942, 5.98658484]])]\n",
    "# key = array([[ 0, -1],[ 0, -1]])\n",
    "a = [jnp.array([[3.74540119, 9.50714306, 7.31993942],\n",
    "       [5.98658484, 1.5601864 , 1.5599452 ],\n",
    "       [0.58083612, 8.66176146, 6.01115012]]), jnp.array([[3.74540119, 9.50714306],\n",
    "       [7.31993942, 5.98658484]])]\n",
    "key = jnp.array([10])"
   ]
  },
  {
   "cell_type": "code",
   "execution_count": null,
   "id": "9cf10c11",
   "metadata": {},
   "outputs": [],
   "source": [
    "a = {'a':[[1, 2], [1,2]], 'b': np.ones((3,3,3))}\n",
    "B = Numpytainer(a)"
   ]
  },
  {
   "cell_type": "code",
   "execution_count": null,
   "id": "8ef63fa2",
   "metadata": {},
   "outputs": [],
   "source": [
    "B = Numpytainer([{'a':np.ones((1,2)),'b':np.ones((2,3))}, {'b':np.ones((2,3)),'c':np.ones((4,)),'d':np.ones((5,6))}])"
   ]
  },
  {
   "cell_type": "code",
   "execution_count": null,
   "id": "bd431974",
   "metadata": {},
   "outputs": [],
   "source": [
    "np.ones((4,)).shape[0:1]"
   ]
  },
  {
   "cell_type": "code",
   "execution_count": null,
   "id": "c2cd207d",
   "metadata": {},
   "outputs": [],
   "source": [
    "B.shape"
   ]
  },
  {
   "cell_type": "code",
   "execution_count": null,
   "id": "49f4065f",
   "metadata": {},
   "outputs": [],
   "source": [
    "A"
   ]
  },
  {
   "cell_type": "code",
   "execution_count": null,
   "id": "45972afc",
   "metadata": {},
   "outputs": [],
   "source": [
    "# A = Numpytainer([{'a':(1,2),'b':(2,3)}, {'b':(2,3),'c':(4,),'d':(5,6)}])\n",
    "A = Numpytainer([{'a':np.ones((1,2)),'b':np.ones((2,3))}, {'b':np.ones((2,3)),'c':np.ones((4,)),'d':np.ones((5,6))}])\n",
    "B = Numpytainer([{'a':(2,),'b':(6,)}, {'b':(6,),'c':(4,),'d':(30,)}])\n",
    "A.reshape(B).shape"
   ]
  },
  {
   "cell_type": "code",
   "execution_count": null,
   "id": "00955bd7",
   "metadata": {},
   "outputs": [],
   "source": [
    "print(A.shape)\n",
    "A.flatten().shape"
   ]
  },
  {
   "cell_type": "code",
   "execution_count": null,
   "id": "2159af31",
   "metadata": {},
   "outputs": [],
   "source": [
    "np.reshape(array([2, 3]), (6,))"
   ]
  },
  {
   "cell_type": "code",
   "execution_count": null,
   "id": "0d3358b1",
   "metadata": {},
   "outputs": [],
   "source": [
    "A = Jaxtainer(a)\n",
    "B = Numpytainer([(2,2)])"
   ]
  },
  {
   "cell_type": "code",
   "execution_count": null,
   "id": "5892aaeb",
   "metadata": {},
   "outputs": [],
   "source": [
    "np.array([[1, 2], [1,2]]).shape[1:]"
   ]
  },
  {
   "cell_type": "code",
   "execution_count": null,
   "id": "5e68a819",
   "metadata": {},
   "outputs": [],
   "source": [
    "B.shape[1:]"
   ]
  },
  {
   "cell_type": "code",
   "execution_count": null,
   "id": "c15e21d8",
   "metadata": {},
   "outputs": [],
   "source": [
    "C = B[key]"
   ]
  },
  {
   "cell_type": "code",
   "execution_count": null,
   "id": "352c6010",
   "metadata": {
    "scrolled": false
   },
   "outputs": [],
   "source": [
    "C = A[key]"
   ]
  },
  {
   "cell_type": "code",
   "execution_count": null,
   "id": "e4900c98",
   "metadata": {},
   "outputs": [],
   "source": [
    "jnp.array([3.74540119, 9.50714306, 7.31993942])[jnp.array([ 0, -1])]"
   ]
  },
  {
   "cell_type": "code",
   "execution_count": null,
   "id": "f8ac907b",
   "metadata": {},
   "outputs": [],
   "source": [
    "index_func = lambda contents : contents[key]\n",
    "apply_func_to_contents(a, func=index_func, args=(key,))"
   ]
  },
  {
   "cell_type": "code",
   "execution_count": null,
   "id": "5a31f12f",
   "metadata": {},
   "outputs": [],
   "source": [
    "def apply_func_to_contents(*contents, func=None, args=(), kwargs=None, index_args=None, \n",
    "                            return_list=False, throw_exception=False):\n",
    "\n",
    "    try:\n",
    "        expected = call_func_recursive(contents, func, args, kwargs, index_args, return_list)\n",
    "        exception = None\n",
    "    except Exception as error:\n",
    "        if throw_exception:\n",
    "            raise error\n",
    "        else:\n",
    "            expected = None\n",
    "            exception = error\n",
    "\n",
    "    return (expected, exception)\n",
    "\n",
    "def call_func_recursive(contents, func, args, kwargs, index_args, return_list):\n",
    "    \n",
    "    first_item = contents[0]\n",
    "    \n",
    "    if kwargs is None:\n",
    "      kwargs = {}\n",
    "\n",
    "    if index_args is None:\n",
    "        index_args = lambda args, idx : args\n",
    "\n",
    "    if isinstance(first_item, dict):\n",
    "        contents_i = {key: [item_i[key] for item_i in contents] for key in first_item.keys()}\n",
    "        result = {key: call_func_recursive(contents_i[key], func, index_args(args,key), kwargs, index_args, return_list) \n",
    "                  for key in first_item.keys()}\n",
    "        return list(result.values()) if return_list else result\n",
    "\n",
    "    elif isinstance(first_item, (tuple,list)):\n",
    "        contents_i = [[item_i[idx] for item_i in contents] for idx in range(len(first_item))]\n",
    "        return [call_func_recursive(contents_i[idx], func, index_args(args,idx), kwargs, index_args, return_list)  \n",
    "                for idx in range(len(first_item))]\n",
    "\n",
    "    else:\n",
    "        print(contents, args)\n",
    "        return func(*contents, *args, **kwargs)"
   ]
  },
  {
   "cell_type": "code",
   "execution_count": null,
   "id": "221586b7",
   "metadata": {},
   "outputs": [],
   "source": []
  }
 ],
 "metadata": {
  "kernelspec": {
   "display_name": "Python 3 (ipykernel)",
   "language": "python",
   "name": "python3"
  },
  "language_info": {
   "codemirror_mode": {
    "name": "ipython",
    "version": 3
   },
   "file_extension": ".py",
   "mimetype": "text/x-python",
   "name": "python",
   "nbconvert_exporter": "python",
   "pygments_lexer": "ipython3",
   "version": "3.8.10"
  }
 },
 "nbformat": 4,
 "nbformat_minor": 5
}
