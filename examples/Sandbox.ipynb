{
 "cells": [
  {
   "cell_type": "code",
   "execution_count": 2,
   "id": "b821c3fa",
   "metadata": {},
   "outputs": [],
   "source": [
    "from arraytainers import Numpytainer, Jaxtainer\n",
    "import numpy as np\n",
    "from numpy import array\n",
    "import jax.numpy as jnp\n",
    "import functools\n",
    "from jax.numpy import DeviceArray"
   ]
  },
  {
   "cell_type": "code",
   "execution_count": 16,
   "id": "6c1bc976",
   "metadata": {
    "scrolled": true
   },
   "outputs": [
    {
     "data": {
      "text/plain": [
       "Numpytainer({'a': {'c': array([6, 1]), 'd': array([6, 1])}, 'b': [{'b': array([1, 1, 9])}, array([1, 1, 9])]})"
      ]
     },
     "execution_count": 16,
     "metadata": {},
     "output_type": "execute_result"
    }
   ],
   "source": [
    "# a = [{'a':(1,2), 'b':[(2,3)]}]\n",
    "a = {'a':{'c':np.ones((3,2)), 'd':np.ones((2,3))}, 'b':[{'b':np.ones((3,3))}, np.ones((1,9,1))]}\n",
    "b = {'a':(6,1), 'b':(1,1,9)} \n",
    "A = Numpytainer(a)\n",
    "B = Numpytainer(b)\n",
    "A.reshape(B).shape"
   ]
  },
  {
   "cell_type": "code",
   "execution_count": 20,
   "id": "b4f7c60a",
   "metadata": {},
   "outputs": [
    {
     "data": {
      "text/plain": [
       "Numpytainer({'a': {'c': array([3, 2]), 'd': array([3, 2])}, 'b': [{'b': array([4, 4])}, array([4, 4])]})"
      ]
     },
     "execution_count": 20,
     "metadata": {},
     "output_type": "execute_result"
    }
   ],
   "source": [
    "a = {'a':{'c':np.ones((3,2)), 'd':np.ones((3,2))}, 'b':[{'b':np.ones((4,4))}, np.ones((4,4))]}\n",
    "b = {'a':np.ones((3,1)), 'b':np.ones((1,4))}\n",
    "A = Numpytainer(a)\n",
    "B = Numpytainer(b)\n",
    "(A + B).shape"
   ]
  },
  {
   "cell_type": "code",
   "execution_count": 22,
   "id": "c0338b48",
   "metadata": {},
   "outputs": [
    {
     "data": {
      "text/plain": [
       "Numpytainer({'a': {'c': array([3, 3]), 'd': array([3, 3])}, 'b': [{'b': array([4, 6])}, array([4, 6])]})"
      ]
     },
     "execution_count": 22,
     "metadata": {},
     "output_type": "execute_result"
    }
   ],
   "source": [
    "a = {'a':{'c':np.ones((3,2)), 'd':np.ones((3,2))}, 'b':[{'b':np.ones((4,4))}, np.ones((4,4))]}\n",
    "b = {'a':np.ones((2,3)), 'b':np.ones((4,6))}\n",
    "A = Numpytainer(a)\n",
    "B = Numpytainer(b)\n",
    "(A @ B).shape"
   ]
  },
  {
   "cell_type": "code",
   "execution_count": 11,
   "id": "b47c5f1d",
   "metadata": {},
   "outputs": [
    {
     "data": {
      "text/plain": [
       "Numpytainer([{'a': array([{'a': array([[[[1., 1., 1., 1.],\n",
       "                [1., 1., 1., 1.],\n",
       "                [1., 1., 1., 1.]],\n",
       "\n",
       "               [[1., 1., 1., 1.],\n",
       "                [1., 1., 1., 1.],\n",
       "                [1., 1., 1., 1.]]]]), 'b': [array([[[[1., 1., 1., 1., 1.],\n",
       "                [1., 1., 1., 1., 1.],\n",
       "                [1., 1., 1., 1., 1.],\n",
       "                [1., 1., 1., 1., 1.]],\n",
       "\n",
       "               [[1., 1., 1., 1., 1.],\n",
       "                [1., 1., 1., 1., 1.],\n",
       "                [1., 1., 1., 1., 1.],\n",
       "                [1., 1., 1., 1., 1.]],\n",
       "\n",
       "               [[1., 1., 1., 1., 1.],\n",
       "                [1., 1., 1., 1., 1.],\n",
       "                [1., 1., 1., 1., 1.],\n",
       "                [1., 1., 1., 1., 1.]]],\n",
       "\n",
       "\n",
       "              [[[1., 1., 1., 1., 1.],\n",
       "                [1., 1., 1., 1., 1.],\n",
       "                [1., 1., 1., 1., 1.],\n",
       "                [1., 1., 1., 1., 1.]],\n",
       "\n",
       "               [[1., 1., 1., 1., 1.],\n",
       "                [1., 1., 1., 1., 1.],\n",
       "                [1., 1., 1., 1., 1.],\n",
       "                [1., 1., 1., 1., 1.]],\n",
       "\n",
       "               [[1., 1., 1., 1., 1.],\n",
       "                [1., 1., 1., 1., 1.],\n",
       "                [1., 1., 1., 1., 1.],\n",
       "                [1., 1., 1., 1., 1.]]]])]}                                ,\n",
       "       24], dtype=object), 'b': [array([{'a': array([[[[1., 1., 1., 1.],\n",
       "                [1., 1., 1., 1.],\n",
       "                [1., 1., 1., 1.]],\n",
       "\n",
       "               [[1., 1., 1., 1.],\n",
       "                [1., 1., 1., 1.],\n",
       "                [1., 1., 1., 1.]]]]), 'b': [array([[[[1., 1., 1., 1., 1.],\n",
       "                [1., 1., 1., 1., 1.],\n",
       "                [1., 1., 1., 1., 1.],\n",
       "                [1., 1., 1., 1., 1.]],\n",
       "\n",
       "               [[1., 1., 1., 1., 1.],\n",
       "                [1., 1., 1., 1., 1.],\n",
       "                [1., 1., 1., 1., 1.],\n",
       "                [1., 1., 1., 1., 1.]],\n",
       "\n",
       "               [[1., 1., 1., 1., 1.],\n",
       "                [1., 1., 1., 1., 1.],\n",
       "                [1., 1., 1., 1., 1.],\n",
       "                [1., 1., 1., 1., 1.]]],\n",
       "\n",
       "\n",
       "              [[[1., 1., 1., 1., 1.],\n",
       "                [1., 1., 1., 1., 1.],\n",
       "                [1., 1., 1., 1., 1.],\n",
       "                [1., 1., 1., 1., 1.]],\n",
       "\n",
       "               [[1., 1., 1., 1., 1.],\n",
       "                [1., 1., 1., 1., 1.],\n",
       "                [1., 1., 1., 1., 1.],\n",
       "                [1., 1., 1., 1., 1.]],\n",
       "\n",
       "               [[1., 1., 1., 1., 1.],\n",
       "                [1., 1., 1., 1., 1.],\n",
       "                [1., 1., 1., 1., 1.],\n",
       "                [1., 1., 1., 1., 1.]]]])]}                                ,\n",
       "       60], dtype=object)]}])"
      ]
     },
     "execution_count": 11,
     "metadata": {},
     "output_type": "execute_result"
    }
   ],
   "source": [
    "# b = [{'a':np.ones((1,2)), 'b':[np.ones((2,3))]}]\n",
    "b = [{'a':np.ones((1,2,3,4)), 'b':[np.ones((2,3,4,5))]}]\n",
    "np.append(b, np.product(Numpytainer(b).shape[1:]))"
   ]
  },
  {
   "cell_type": "code",
   "execution_count": 5,
   "id": "8403c87f",
   "metadata": {},
   "outputs": [],
   "source": [
    "from copy import deepcopy"
   ]
  },
  {
   "cell_type": "code",
   "execution_count": 7,
   "id": "26b8cd24",
   "metadata": {},
   "outputs": [
    {
     "data": {
      "text/plain": [
       "array([[1., 1.]], dtype=float32)"
      ]
     },
     "execution_count": 7,
     "metadata": {},
     "output_type": "execute_result"
    }
   ],
   "source": [
    "deepcopy(jnp.ones((1,2)))"
   ]
  },
  {
   "cell_type": "code",
   "execution_count": 5,
   "id": "ac6665ed",
   "metadata": {},
   "outputs": [
    {
     "data": {
      "text/plain": [
       "[Jaxtainer({'a': DeviceArray([[1., 1.]], dtype=float32), 'b': DeviceArray([[1., 1., 1.],\n",
       "              [1., 1., 1.]], dtype=float32)})]"
      ]
     },
     "execution_count": 5,
     "metadata": {},
     "output_type": "execute_result"
    }
   ],
   "source": [
    "A.contents"
   ]
  },
  {
   "cell_type": "code",
   "execution_count": 9,
   "id": "e6d36e91",
   "metadata": {},
   "outputs": [
    {
     "name": "stdout",
     "output_type": "stream",
     "text": [
      "[1 2] [1 2]\n",
      "True\n",
      "[2 3] [2 3]\n",
      "True\n"
     ]
    }
   ],
   "source": [
    "A = Jaxtainer([{'a':np.ones((1,2)), 'b':[np.ones((2,3))]}])\n",
    "B = Jaxtainer([{'a':(1,2), 'b':[(2,3)]}])\n",
    "assert_equal_values(A.shape.unpacked, B.unpacked, approx_equal=True)"
   ]
  },
  {
   "cell_type": "code",
   "execution_count": 4,
   "id": "a71d1010",
   "metadata": {},
   "outputs": [],
   "source": [
    "def assert_equal_values(contents_1, contents_2, approx_equal=True):\n",
    "  \n",
    "    def assert_func(contents_1, contents_2):\n",
    "        print(contents_1, contents_2)\n",
    "        if approx_equal:\n",
    "          print(np.allclose(contents_1, contents_2, atol=1e-5, rtol=1e-5))\n",
    "            # Need to adjust atol and rtol because, by default, Jax uses 32 bit numbers which means,\n",
    "            # when compared to 64 bit Numpy computations, the default tolerances throw spurious errors:\n",
    "          assert np.allclose(contents_1, contents_2, atol=1e-5, rtol=1e-5)\n",
    "        else:\n",
    "          assert contents_1 == contents_2\n",
    "    apply_func_to_contents(contents_1, contents_2, func=assert_func, throw_exception=True)\n",
    "\n",
    "\n",
    "def apply_func_to_contents(*contents, func=None, args=(), kwargs=None, index_args=None, \n",
    "                            return_list=False, throw_exception=False):\n",
    "\n",
    "    try:\n",
    "        expected = call_func_recursive(contents, func, args, kwargs, index_args, return_list)\n",
    "        exception = None\n",
    "    except Exception as error:\n",
    "        if throw_exception:\n",
    "            raise error\n",
    "        else:\n",
    "            expected = None\n",
    "            exception = error\n",
    "\n",
    "    return (expected, exception)\n",
    "\n",
    "def call_func_recursive(contents, func, args, kwargs, index_args, return_list):\n",
    "    \n",
    "    first_item = contents[0]\n",
    "    if kwargs is None:\n",
    "      kwargs = {}\n",
    "\n",
    "    if index_args is None:\n",
    "        index_args = lambda args, idx : args\n",
    "\n",
    "    if isinstance(first_item, dict):\n",
    "        contents_i = {key: [item_i[key] for item_i in contents] for key in first_item.keys()}\n",
    "        result = {key: call_func_recursive(contents_i[key], func, index_args(args,key), kwargs, index_args, return_list) \n",
    "                  for key in first_item.keys()}\n",
    "        return list(result.values()) if return_list else result\n",
    "\n",
    "    elif isinstance(first_item, (tuple,list)):\n",
    "        contents_i = [[item_i[idx] for item_i in contents] for idx in range(len(first_item))]\n",
    "        return [call_func_recursive(contents_i[idx], func, index_args(args,idx), kwargs, index_args, return_list)  \n",
    "                for idx in range(len(first_item))]\n",
    "\n",
    "    else:\n",
    "        return func(*contents, *args, **kwargs)"
   ]
  },
  {
   "cell_type": "code",
   "execution_count": 7,
   "id": "f727587e",
   "metadata": {},
   "outputs": [
    {
     "data": {
      "text/plain": [
       "True"
      ]
     },
     "execution_count": 7,
     "metadata": {},
     "output_type": "execute_result"
    }
   ],
   "source": [
    "Jaxtainer({}).contents == Jaxtainer({}).shape.contents"
   ]
  },
  {
   "cell_type": "code",
   "execution_count": 2,
   "id": "088d0aee",
   "metadata": {
    "scrolled": false
   },
   "outputs": [
    {
     "name": "stderr",
     "output_type": "stream",
     "text": [
      "WARNING:absl:No GPU/TPU found, falling back to CPU. (Set TF_CPP_MIN_LOG_LEVEL=0 and rerun for more info.)\n"
     ]
    }
   ],
   "source": [
    "# a = [array([[3.74540119, 9.50714306, 7.31993942],\n",
    "#        [5.98658484, 1.5601864 , 1.5599452 ],\n",
    "#        [0.58083612, 8.66176146, 6.01115012]]), array([[3.74540119, 9.50714306],\n",
    "#        [7.31993942, 5.98658484]])]\n",
    "# key = array([[ 0, -1],[ 0, -1]])\n",
    "a = [jnp.array([[3.74540119, 9.50714306, 7.31993942],\n",
    "       [5.98658484, 1.5601864 , 1.5599452 ],\n",
    "       [0.58083612, 8.66176146, 6.01115012]]), jnp.array([[3.74540119, 9.50714306],\n",
    "       [7.31993942, 5.98658484]])]\n",
    "key = jnp.array([10])"
   ]
  },
  {
   "cell_type": "code",
   "execution_count": 3,
   "id": "9cf10c11",
   "metadata": {},
   "outputs": [],
   "source": [
    "a = {'a':[[1, 2], [1,2]], 'b': np.ones((3,3,3))}\n",
    "B = Numpytainer(a)"
   ]
  },
  {
   "cell_type": "code",
   "execution_count": 6,
   "id": "8ef63fa2",
   "metadata": {},
   "outputs": [],
   "source": [
    "B = Numpytainer([{'a':np.ones((1,2)),'b':np.ones((2,3))}, {'b':np.ones((2,3)),'c':np.ones((4,)),'d':np.ones((5,6))}])"
   ]
  },
  {
   "cell_type": "code",
   "execution_count": 16,
   "id": "bd431974",
   "metadata": {},
   "outputs": [
    {
     "data": {
      "text/plain": [
       "(4,)"
      ]
     },
     "execution_count": 16,
     "metadata": {},
     "output_type": "execute_result"
    }
   ],
   "source": [
    "np.ones((4,)).shape[0:1]"
   ]
  },
  {
   "cell_type": "code",
   "execution_count": 26,
   "id": "c2cd207d",
   "metadata": {},
   "outputs": [
    {
     "data": {
      "text/plain": [
       "Numpytainer([{'a': [1, 2], 'b': [2, 3]}, {'b': [2, 3], 'c': [4], 'd': [5, 6]}])"
      ]
     },
     "execution_count": 26,
     "metadata": {},
     "output_type": "execute_result"
    }
   ],
   "source": [
    "B.shape"
   ]
  },
  {
   "cell_type": "code",
   "execution_count": 8,
   "id": "49f4065f",
   "metadata": {},
   "outputs": [
    {
     "data": {
      "text/plain": [
       "Numpytainer([{'a': array([1, 2]), 'b': array([2, 3])}, {'b': array([2, 3]), 'c': array([4]), 'd': array([5, 6])}])"
      ]
     },
     "execution_count": 8,
     "metadata": {},
     "output_type": "execute_result"
    }
   ],
   "source": [
    "A"
   ]
  },
  {
   "cell_type": "code",
   "execution_count": 2,
   "id": "45972afc",
   "metadata": {},
   "outputs": [
    {
     "data": {
      "text/plain": [
       "Numpytainer([{'a': array([2]), 'b': array([6])}, {'b': array([6]), 'c': array([4]), 'd': array([30])}])"
      ]
     },
     "execution_count": 2,
     "metadata": {},
     "output_type": "execute_result"
    }
   ],
   "source": [
    "# A = Numpytainer([{'a':(1,2),'b':(2,3)}, {'b':(2,3),'c':(4,),'d':(5,6)}])\n",
    "A = Numpytainer([{'a':np.ones((1,2)),'b':np.ones((2,3))}, {'b':np.ones((2,3)),'c':np.ones((4,)),'d':np.ones((5,6))}])\n",
    "B = Numpytainer([{'a':(2,),'b':(6,)}, {'b':(6,),'c':(4,),'d':(30,)}])\n",
    "A.reshape(B).shape"
   ]
  },
  {
   "cell_type": "code",
   "execution_count": 5,
   "id": "00955bd7",
   "metadata": {},
   "outputs": [
    {
     "name": "stdout",
     "output_type": "stream",
     "text": [
      "Numpytainer([{'a': array([1, 2]), 'b': array([2, 3])}, {'b': array([2, 3]), 'c': array([4]), 'd': array([5, 6])}])\n"
     ]
    },
    {
     "data": {
      "text/plain": [
       "Numpytainer([{'a': array([2]), 'b': array([6])}, {'b': array([6]), 'c': array([4]), 'd': array([30])}])"
      ]
     },
     "execution_count": 5,
     "metadata": {},
     "output_type": "execute_result"
    }
   ],
   "source": [
    "print(A.shape)\n",
    "A.flatten().shape"
   ]
  },
  {
   "cell_type": "code",
   "execution_count": 5,
   "id": "2159af31",
   "metadata": {},
   "outputs": [
    {
     "ename": "ValueError",
     "evalue": "cannot reshape array of size 2 into shape (6,)",
     "output_type": "error",
     "traceback": [
      "\u001b[0;31m---------------------------------------------------------------------------\u001b[0m",
      "\u001b[0;31mValueError\u001b[0m                                Traceback (most recent call last)",
      "\u001b[0;32m/tmp/ipykernel_22138/151854101.py\u001b[0m in \u001b[0;36m<module>\u001b[0;34m\u001b[0m\n\u001b[0;32m----> 1\u001b[0;31m \u001b[0mnp\u001b[0m\u001b[0;34m.\u001b[0m\u001b[0mreshape\u001b[0m\u001b[0;34m(\u001b[0m\u001b[0marray\u001b[0m\u001b[0;34m(\u001b[0m\u001b[0;34m[\u001b[0m\u001b[0;36m2\u001b[0m\u001b[0;34m,\u001b[0m \u001b[0;36m3\u001b[0m\u001b[0;34m]\u001b[0m\u001b[0;34m)\u001b[0m\u001b[0;34m,\u001b[0m \u001b[0;34m(\u001b[0m\u001b[0;36m6\u001b[0m\u001b[0;34m,\u001b[0m\u001b[0;34m)\u001b[0m\u001b[0;34m)\u001b[0m\u001b[0;34m\u001b[0m\u001b[0;34m\u001b[0m\u001b[0m\n\u001b[0m",
      "\u001b[0;32m<__array_function__ internals>\u001b[0m in \u001b[0;36mreshape\u001b[0;34m(*args, **kwargs)\u001b[0m\n",
      "\u001b[0;32m~/.local/lib/python3.8/site-packages/numpy/core/fromnumeric.py\u001b[0m in \u001b[0;36mreshape\u001b[0;34m(a, newshape, order)\u001b[0m\n\u001b[1;32m    297\u001b[0m            [5, 6]])\n\u001b[1;32m    298\u001b[0m     \"\"\"\n\u001b[0;32m--> 299\u001b[0;31m     \u001b[0;32mreturn\u001b[0m \u001b[0m_wrapfunc\u001b[0m\u001b[0;34m(\u001b[0m\u001b[0ma\u001b[0m\u001b[0;34m,\u001b[0m \u001b[0;34m'reshape'\u001b[0m\u001b[0;34m,\u001b[0m \u001b[0mnewshape\u001b[0m\u001b[0;34m,\u001b[0m \u001b[0morder\u001b[0m\u001b[0;34m=\u001b[0m\u001b[0morder\u001b[0m\u001b[0;34m)\u001b[0m\u001b[0;34m\u001b[0m\u001b[0;34m\u001b[0m\u001b[0m\n\u001b[0m\u001b[1;32m    300\u001b[0m \u001b[0;34m\u001b[0m\u001b[0m\n\u001b[1;32m    301\u001b[0m \u001b[0;34m\u001b[0m\u001b[0m\n",
      "\u001b[0;32m~/.local/lib/python3.8/site-packages/numpy/core/fromnumeric.py\u001b[0m in \u001b[0;36m_wrapfunc\u001b[0;34m(obj, method, *args, **kwds)\u001b[0m\n\u001b[1;32m     56\u001b[0m \u001b[0;34m\u001b[0m\u001b[0m\n\u001b[1;32m     57\u001b[0m     \u001b[0;32mtry\u001b[0m\u001b[0;34m:\u001b[0m\u001b[0;34m\u001b[0m\u001b[0;34m\u001b[0m\u001b[0m\n\u001b[0;32m---> 58\u001b[0;31m         \u001b[0;32mreturn\u001b[0m \u001b[0mbound\u001b[0m\u001b[0;34m(\u001b[0m\u001b[0;34m*\u001b[0m\u001b[0margs\u001b[0m\u001b[0;34m,\u001b[0m \u001b[0;34m**\u001b[0m\u001b[0mkwds\u001b[0m\u001b[0;34m)\u001b[0m\u001b[0;34m\u001b[0m\u001b[0;34m\u001b[0m\u001b[0m\n\u001b[0m\u001b[1;32m     59\u001b[0m     \u001b[0;32mexcept\u001b[0m \u001b[0mTypeError\u001b[0m\u001b[0;34m:\u001b[0m\u001b[0;34m\u001b[0m\u001b[0;34m\u001b[0m\u001b[0m\n\u001b[1;32m     60\u001b[0m         \u001b[0;31m# A TypeError occurs if the object does have such a method in its\u001b[0m\u001b[0;34m\u001b[0m\u001b[0;34m\u001b[0m\u001b[0;34m\u001b[0m\u001b[0m\n",
      "\u001b[0;31mValueError\u001b[0m: cannot reshape array of size 2 into shape (6,)"
     ]
    }
   ],
   "source": [
    "np.reshape(array([2, 3]), (6,))"
   ]
  },
  {
   "cell_type": "code",
   "execution_count": 4,
   "id": "0d3358b1",
   "metadata": {},
   "outputs": [],
   "source": [
    "A = Jaxtainer(a)\n",
    "B = Numpytainer([(2,2)])"
   ]
  },
  {
   "cell_type": "code",
   "execution_count": 5,
   "id": "5892aaeb",
   "metadata": {},
   "outputs": [
    {
     "data": {
      "text/plain": [
       "(2,)"
      ]
     },
     "execution_count": 5,
     "metadata": {},
     "output_type": "execute_result"
    }
   ],
   "source": [
    "np.array([[1, 2], [1,2]]).shape[1:]"
   ]
  },
  {
   "cell_type": "code",
   "execution_count": 15,
   "id": "5e68a819",
   "metadata": {},
   "outputs": [
    {
     "data": {
      "text/plain": [
       "Numpytainer({'a': (2,), 'b': (3, 3)})"
      ]
     },
     "execution_count": 15,
     "metadata": {},
     "output_type": "execute_result"
    }
   ],
   "source": [
    "B.shape[1:]"
   ]
  },
  {
   "cell_type": "code",
   "execution_count": 7,
   "id": "c15e21d8",
   "metadata": {},
   "outputs": [
    {
     "ename": "IndexError",
     "evalue": "index 10 is out of bounds for axis 0 with size 2",
     "output_type": "error",
     "traceback": [
      "\u001b[0;31m---------------------------------------------------------------------------\u001b[0m",
      "\u001b[0;31mIndexError\u001b[0m                                Traceback (most recent call last)",
      "\u001b[0;32m/tmp/ipykernel_13766/1342945857.py\u001b[0m in \u001b[0;36m<module>\u001b[0;34m\u001b[0m\n\u001b[0;32m----> 1\u001b[0;31m \u001b[0mC\u001b[0m \u001b[0;34m=\u001b[0m \u001b[0mB\u001b[0m\u001b[0;34m[\u001b[0m\u001b[0mkey\u001b[0m\u001b[0;34m]\u001b[0m\u001b[0;34m\u001b[0m\u001b[0;34m\u001b[0m\u001b[0m\n\u001b[0m",
      "\u001b[0;32m/mnt/c/Users/Matthew Bilton/Documents/Software Projects/arraytainers/arraytainers/base/getset.py\u001b[0m in \u001b[0;36m__getitem__\u001b[0;34m(self, key)\u001b[0m\n\u001b[1;32m     19\u001b[0m             \u001b[0mitem\u001b[0m \u001b[0;34m=\u001b[0m \u001b[0mself\u001b[0m\u001b[0;34m.\u001b[0m\u001b[0m_index_with_container\u001b[0m\u001b[0;34m(\u001b[0m\u001b[0mkey\u001b[0m\u001b[0;34m)\u001b[0m\u001b[0;34m\u001b[0m\u001b[0;34m\u001b[0m\u001b[0m\n\u001b[1;32m     20\u001b[0m         \u001b[0;32melif\u001b[0m \u001b[0mself\u001b[0m\u001b[0;34m.\u001b[0m\u001b[0mis_array\u001b[0m\u001b[0;34m(\u001b[0m\u001b[0mkey\u001b[0m\u001b[0;34m)\u001b[0m\u001b[0;34m:\u001b[0m\u001b[0;34m\u001b[0m\u001b[0;34m\u001b[0m\u001b[0m\n\u001b[0;32m---> 21\u001b[0;31m             \u001b[0mitem\u001b[0m \u001b[0;34m=\u001b[0m \u001b[0mself\u001b[0m\u001b[0;34m.\u001b[0m\u001b[0m_index_with_array\u001b[0m\u001b[0;34m(\u001b[0m\u001b[0mkey\u001b[0m\u001b[0;34m)\u001b[0m\u001b[0;34m\u001b[0m\u001b[0;34m\u001b[0m\u001b[0m\n\u001b[0m\u001b[1;32m     22\u001b[0m         \u001b[0;32melif\u001b[0m \u001b[0mis_slice\u001b[0m\u001b[0;34m(\u001b[0m\u001b[0mkey\u001b[0m\u001b[0;34m)\u001b[0m \u001b[0;32mor\u001b[0m \u001b[0mis_tuple_of_ints\u001b[0m\u001b[0;34m(\u001b[0m\u001b[0mkey\u001b[0m\u001b[0;34m)\u001b[0m\u001b[0;34m:\u001b[0m\u001b[0;34m\u001b[0m\u001b[0;34m\u001b[0m\u001b[0m\n\u001b[1;32m     23\u001b[0m             \u001b[0mitem\u001b[0m \u001b[0;34m=\u001b[0m \u001b[0mself\u001b[0m\u001b[0;34m.\u001b[0m\u001b[0m_index_with_slices\u001b[0m\u001b[0;34m(\u001b[0m\u001b[0mkey\u001b[0m\u001b[0;34m)\u001b[0m\u001b[0;34m\u001b[0m\u001b[0;34m\u001b[0m\u001b[0m\n",
      "\u001b[0;32m/mnt/c/Users/Matthew Bilton/Documents/Software Projects/arraytainers/arraytainers/base/getset.py\u001b[0m in \u001b[0;36m_index_with_array\u001b[0;34m(self, array_key)\u001b[0m\n\u001b[1;32m     36\u001b[0m         \u001b[0mitem\u001b[0m \u001b[0;34m=\u001b[0m \u001b[0mself\u001b[0m\u001b[0;34m.\u001b[0m\u001b[0mcopy\u001b[0m\u001b[0;34m(\u001b[0m\u001b[0;34m)\u001b[0m\u001b[0;34m\u001b[0m\u001b[0;34m\u001b[0m\u001b[0m\n\u001b[1;32m     37\u001b[0m         \u001b[0;32mfor\u001b[0m \u001b[0mcontainer_key\u001b[0m \u001b[0;32min\u001b[0m \u001b[0mself\u001b[0m\u001b[0;34m.\u001b[0m\u001b[0mkeys\u001b[0m\u001b[0;34m(\u001b[0m\u001b[0;34m)\u001b[0m\u001b[0;34m:\u001b[0m\u001b[0;34m\u001b[0m\u001b[0;34m\u001b[0m\u001b[0m\n\u001b[0;32m---> 38\u001b[0;31m             \u001b[0mitem\u001b[0m\u001b[0;34m[\u001b[0m\u001b[0mcontainer_key\u001b[0m\u001b[0;34m]\u001b[0m \u001b[0;34m=\u001b[0m \u001b[0mself\u001b[0m\u001b[0;34m.\u001b[0m\u001b[0mcontents\u001b[0m\u001b[0;34m[\u001b[0m\u001b[0mcontainer_key\u001b[0m\u001b[0;34m]\u001b[0m\u001b[0;34m[\u001b[0m\u001b[0mself\u001b[0m\u001b[0;34m.\u001b[0m\u001b[0marray\u001b[0m\u001b[0;34m(\u001b[0m\u001b[0marray_key\u001b[0m\u001b[0;34m)\u001b[0m\u001b[0;34m]\u001b[0m\u001b[0;34m\u001b[0m\u001b[0;34m\u001b[0m\u001b[0m\n\u001b[0m\u001b[1;32m     39\u001b[0m         \u001b[0;32mreturn\u001b[0m \u001b[0mitem\u001b[0m\u001b[0;34m\u001b[0m\u001b[0;34m\u001b[0m\u001b[0m\n\u001b[1;32m     40\u001b[0m \u001b[0;34m\u001b[0m\u001b[0m\n",
      "\u001b[0;31mIndexError\u001b[0m: index 10 is out of bounds for axis 0 with size 2"
     ]
    }
   ],
   "source": [
    "C = B[key]"
   ]
  },
  {
   "cell_type": "code",
   "execution_count": null,
   "id": "352c6010",
   "metadata": {
    "scrolled": false
   },
   "outputs": [],
   "source": [
    "C = A[key]"
   ]
  },
  {
   "cell_type": "code",
   "execution_count": null,
   "id": "e4900c98",
   "metadata": {},
   "outputs": [],
   "source": [
    "jnp.array([3.74540119, 9.50714306, 7.31993942])[jnp.array([ 0, -1])]"
   ]
  },
  {
   "cell_type": "code",
   "execution_count": null,
   "id": "f8ac907b",
   "metadata": {},
   "outputs": [],
   "source": [
    "index_func = lambda contents : contents[key]\n",
    "apply_func_to_contents(a, func=index_func, args=(key,))"
   ]
  },
  {
   "cell_type": "code",
   "execution_count": null,
   "id": "5a31f12f",
   "metadata": {},
   "outputs": [],
   "source": [
    "def apply_func_to_contents(*contents, func=None, args=(), kwargs=None, index_args=None, \n",
    "                            return_list=False, throw_exception=False):\n",
    "\n",
    "    try:\n",
    "        expected = call_func_recursive(contents, func, args, kwargs, index_args, return_list)\n",
    "        exception = None\n",
    "    except Exception as error:\n",
    "        if throw_exception:\n",
    "            raise error\n",
    "        else:\n",
    "            expected = None\n",
    "            exception = error\n",
    "\n",
    "    return (expected, exception)\n",
    "\n",
    "def call_func_recursive(contents, func, args, kwargs, index_args, return_list):\n",
    "    \n",
    "    first_item = contents[0]\n",
    "    \n",
    "    if kwargs is None:\n",
    "      kwargs = {}\n",
    "\n",
    "    if index_args is None:\n",
    "        index_args = lambda args, idx : args\n",
    "\n",
    "    if isinstance(first_item, dict):\n",
    "        contents_i = {key: [item_i[key] for item_i in contents] for key in first_item.keys()}\n",
    "        result = {key: call_func_recursive(contents_i[key], func, index_args(args,key), kwargs, index_args, return_list) \n",
    "                  for key in first_item.keys()}\n",
    "        return list(result.values()) if return_list else result\n",
    "\n",
    "    elif isinstance(first_item, (tuple,list)):\n",
    "        contents_i = [[item_i[idx] for item_i in contents] for idx in range(len(first_item))]\n",
    "        return [call_func_recursive(contents_i[idx], func, index_args(args,idx), kwargs, index_args, return_list)  \n",
    "                for idx in range(len(first_item))]\n",
    "\n",
    "    else:\n",
    "        print(contents, args)\n",
    "        return func(*contents, *args, **kwargs)"
   ]
  },
  {
   "cell_type": "code",
   "execution_count": null,
   "id": "221586b7",
   "metadata": {},
   "outputs": [],
   "source": []
  }
 ],
 "metadata": {
  "kernelspec": {
   "display_name": "Python 3 (ipykernel)",
   "language": "python",
   "name": "python3"
  },
  "language_info": {
   "codemirror_mode": {
    "name": "ipython",
    "version": 3
   },
   "file_extension": ".py",
   "mimetype": "text/x-python",
   "name": "python",
   "nbconvert_exporter": "python",
   "pygments_lexer": "ipython3",
   "version": "3.8.5"
  }
 },
 "nbformat": 4,
 "nbformat_minor": 5
}
