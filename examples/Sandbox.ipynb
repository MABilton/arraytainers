{
 "cells": [
  {
   "cell_type": "code",
   "execution_count": 2,
   "id": "b821c3fa",
   "metadata": {},
   "outputs": [],
   "source": [
    "from arraytainers import Arraytainer, Jaxtainer\n",
    "import numpy as np\n",
    "from numpy import array\n",
    "import jax\n",
    "import jax.numpy as jnp\n",
    "import functools\n",
    "from jax.numpy import DeviceArray"
   ]
  },
  {
   "cell_type": "code",
   "execution_count": 2,
   "id": "05d9be19",
   "metadata": {},
   "outputs": [
    {
     "name": "stderr",
     "output_type": "stream",
     "text": [
      "WARNING:absl:No GPU/TPU found, falling back to CPU. (Set TF_CPP_MIN_LOG_LEVEL=0 and rerun for more info.)\n"
     ]
    }
   ],
   "source": [
    "a = Arraytainer({'mean': [[0.02847474]], 'chol_diag': [[1.0284747]], 'chol_lowerdiag': []})\n",
    "b = Jaxtainer({'chol_diag': [0.03162277], 'chol_lowerdiag': [], 'mean': [-100.]})\n",
    "c = Jaxtainer({'chol_lowerdiag': [], 'chol_diag': [100.], 'mean': [100.]})"
   ]
  },
  {
   "cell_type": "code",
   "execution_count": 8,
   "id": "0965a87a",
   "metadata": {},
   "outputs": [
    {
     "data": {
      "text/plain": [
       "Arraytainer({'mean': array([4, 6]), 'chol_diag': array([4, 6, 3])})"
      ]
     },
     "execution_count": 8,
     "metadata": {},
     "output_type": "execute_result"
    }
   ],
   "source": [
    "a = Arraytainer({'mean': np.random.rand(2,2,6), 'chol_diag': np.random.rand(2,2,6,3)})\n",
    "Arraytainer.from_array(a.flatten(), shapes=(4,a.shape[2:])).shape"
   ]
  },
  {
   "cell_type": "code",
   "execution_count": 3,
   "id": "4cf40467",
   "metadata": {},
   "outputs": [
    {
     "name": "stderr",
     "output_type": "stream",
     "text": [
      "WARNING:absl:No GPU/TPU found, falling back to CPU. (Set TF_CPP_MIN_LOG_LEVEL=0 and rerun for more info.)\n"
     ]
    }
   ],
   "source": [
    "def my_func(x, shape):\n",
    "    return Jaxtainer.from_array(x, shape)\n",
    "\n",
    "shape = Jaxtainer({'a': [2], 'b': [3] })\n",
    "x = jnp.ones((5,))"
   ]
  },
  {
   "cell_type": "code",
   "execution_count": 12,
   "id": "5cbf15c3",
   "metadata": {},
   "outputs": [],
   "source": [
    "x = jnp.linspace(0,10,10).reshape(2,5)\n",
    "shape = Jaxtainer({'a': [3], 'b': [7] })"
   ]
  },
  {
   "cell_type": "code",
   "execution_count": 13,
   "id": "16679150",
   "metadata": {},
   "outputs": [
    {
     "data": {
      "text/plain": [
       "DeviceArray([[ 0.       ,  1.1111112,  2.2222223,  3.3333335,  4.4444447],\n",
       "             [ 5.555556 ,  6.666667 ,  7.7777777,  8.888889 , 10.       ]],            dtype=float32)"
      ]
     },
     "execution_count": 13,
     "metadata": {},
     "output_type": "execute_result"
    }
   ],
   "source": [
    "x"
   ]
  },
  {
   "cell_type": "code",
   "execution_count": 14,
   "id": "10173638",
   "metadata": {},
   "outputs": [
    {
     "data": {
      "text/plain": [
       "Jaxtainer({'a': DeviceArray([0.       , 5.555556 , 1.1111112], dtype=float32), 'b': DeviceArray([ 6.666667 ,  2.2222223,  7.7777777,  3.3333335,  8.888889 ,\n",
       "              4.4444447, 10.       ], dtype=float32)})"
      ]
     },
     "execution_count": 14,
     "metadata": {},
     "output_type": "execute_result"
    }
   ],
   "source": [
    "Jaxtainer.from_array(x, shape, order='F')"
   ]
  },
  {
   "cell_type": "code",
   "execution_count": null,
   "id": "2539c54f",
   "metadata": {},
   "outputs": [],
   "source": []
  }
 ],
 "metadata": {
  "kernelspec": {
   "display_name": "Python 3 (ipykernel)",
   "language": "python",
   "name": "python3"
  },
  "language_info": {
   "codemirror_mode": {
    "name": "ipython",
    "version": 3
   },
   "file_extension": ".py",
   "mimetype": "text/x-python",
   "name": "python",
   "nbconvert_exporter": "python",
   "pygments_lexer": "ipython3",
   "version": "3.8.10"
  }
 },
 "nbformat": 4,
 "nbformat_minor": 5
}
