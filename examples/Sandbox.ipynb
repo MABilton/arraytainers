{
 "cells": [
  {
   "cell_type": "code",
   "execution_count": 1,
   "id": "b821c3fa",
   "metadata": {},
   "outputs": [],
   "source": [
    "from arraytainers import Arraytainer, Jaxtainer\n",
    "import numpy as np\n",
    "from numpy import array\n",
    "import jax\n",
    "import jax.numpy as jnp\n",
    "import functools\n",
    "from jax.numpy import DeviceArray"
   ]
  },
  {
   "cell_type": "code",
   "execution_count": 2,
   "id": "05d9be19",
   "metadata": {},
   "outputs": [
    {
     "name": "stderr",
     "output_type": "stream",
     "text": [
      "WARNING:absl:No GPU/TPU found, falling back to CPU. (Set TF_CPP_MIN_LOG_LEVEL=0 and rerun for more info.)\n"
     ]
    }
   ],
   "source": [
    "a = Arraytainer({'mean': [[0.02847474]], 'chol_diag': [[1.0284747]], 'chol_lowerdiag': []})\n",
    "b = Jaxtainer({'chol_diag': [0.03162277], 'chol_lowerdiag': [], 'mean': [-100.]})\n",
    "c = Jaxtainer({'chol_lowerdiag': [], 'chol_diag': [100.], 'mean': [100.]})"
   ]
  },
  {
   "cell_type": "code",
   "execution_count": 8,
   "id": "0965a87a",
   "metadata": {},
   "outputs": [
    {
     "data": {
      "text/plain": [
       "Arraytainer({'mean': array([4, 6]), 'chol_diag': array([4, 6, 3])})"
      ]
     },
     "execution_count": 8,
     "metadata": {},
     "output_type": "execute_result"
    }
   ],
   "source": [
    "a = Arraytainer({'mean': np.random.rand(2,2,6), 'chol_diag': np.random.rand(2,2,6,3)})\n",
    "Arraytainer.from_array(a.flatten(), shapes=(4,a.shape[2:])).shape"
   ]
  },
  {
   "cell_type": "code",
   "execution_count": 11,
   "id": "f5eef813",
   "metadata": {},
   "outputs": [
    {
     "data": {
      "text/plain": [
       "Arraytainer({'mean': array([4, 6]), 'chol_diag': array([4, 6, 3])})"
      ]
     },
     "execution_count": 11,
     "metadata": {},
     "output_type": "execute_result"
    }
   ],
   "source": [
    "a.reshape(4,a.shape[2:]).shape"
   ]
  },
  {
   "cell_type": "code",
   "execution_count": 6,
   "id": "7dcf41a9",
   "metadata": {},
   "outputs": [
    {
     "name": "stdout",
     "output_type": "stream",
     "text": [
      "s\n"
     ]
    }
   ],
   "source": [
    "if np.array([2]) == 2:\n",
    "    print('s')"
   ]
  },
  {
   "cell_type": "code",
   "execution_count": null,
   "id": "4cf40467",
   "metadata": {},
   "outputs": [],
   "source": []
  }
 ],
 "metadata": {
  "kernelspec": {
   "display_name": "Python 3 (ipykernel)",
   "language": "python",
   "name": "python3"
  },
  "language_info": {
   "codemirror_mode": {
    "name": "ipython",
    "version": 3
   },
   "file_extension": ".py",
   "mimetype": "text/x-python",
   "name": "python",
   "nbconvert_exporter": "python",
   "pygments_lexer": "ipython3",
   "version": "3.8.10"
  }
 },
 "nbformat": 4,
 "nbformat_minor": 5
}
