{
 "cells": [
  {
   "cell_type": "code",
   "execution_count": 1,
   "id": "b821c3fa",
   "metadata": {},
   "outputs": [],
   "source": [
    "from arraytainers import Numpytainer, Jaxtainer\n",
    "import numpy as np\n",
    "from numpy import array\n",
    "import jax.numpy as jnp\n",
    "import functools\n",
    "import jaxlib"
   ]
  },
  {
   "cell_type": "code",
   "execution_count": 35,
   "id": "088d0aee",
   "metadata": {
    "scrolled": false
   },
   "outputs": [],
   "source": [
    "# a = [array([[3.74540119, 9.50714306, 7.31993942],\n",
    "#        [5.98658484, 1.5601864 , 1.5599452 ],\n",
    "#        [0.58083612, 8.66176146, 6.01115012]]), array([[3.74540119, 9.50714306],\n",
    "#        [7.31993942, 5.98658484]])]\n",
    "# key = array([[ 0, -1],[ 0, -1]])\n",
    "a = [jnp.array([[3.74540119, 9.50714306, 7.31993942],\n",
    "       [5.98658484, 1.5601864 , 1.5599452 ],\n",
    "       [0.58083612, 8.66176146, 6.01115012]]), jnp.array([[3.74540119, 9.50714306],\n",
    "       [7.31993942, 5.98658484]])]\n",
    "key = jnp.array([10])"
   ]
  },
  {
   "cell_type": "code",
   "execution_count": 36,
   "id": "57657d17",
   "metadata": {},
   "outputs": [
    {
     "data": {
      "text/plain": [
       "DeviceArray([[0.5808361, 8.661761 , 6.01115  ]], dtype=float32)"
      ]
     },
     "execution_count": 36,
     "metadata": {},
     "output_type": "execute_result"
    }
   ],
   "source": [
    "a[0][key]"
   ]
  },
  {
   "cell_type": "code",
   "execution_count": 17,
   "id": "0d3358b1",
   "metadata": {},
   "outputs": [],
   "source": [
    "A = Jaxtainer(a)\n",
    "B = Numpytainer(a)"
   ]
  },
  {
   "cell_type": "code",
   "execution_count": 18,
   "id": "c15e21d8",
   "metadata": {},
   "outputs": [
    {
     "name": "stdout",
     "output_type": "stream",
     "text": [
      "[[3.74540119 9.50714306 7.31993942]\n",
      " [5.98658484 1.5601864  1.5599452 ]\n",
      " [0.58083612 8.66176146 6.01115012]] <class 'numpy.ndarray'>\n",
      "[[10 -1]\n",
      " [ 0 -1]] <class 'numpy.ndarray'>\n"
     ]
    },
    {
     "ename": "IndexError",
     "evalue": "index 10 is out of bounds for axis 0 with size 3",
     "output_type": "error",
     "traceback": [
      "\u001b[0;31m---------------------------------------------------------------------------\u001b[0m",
      "\u001b[0;31mIndexError\u001b[0m                                Traceback (most recent call last)",
      "\u001b[0;32m/tmp/ipykernel_23657/1342945857.py\u001b[0m in \u001b[0;36m<module>\u001b[0;34m\u001b[0m\n\u001b[0;32m----> 1\u001b[0;31m \u001b[0mC\u001b[0m \u001b[0;34m=\u001b[0m \u001b[0mB\u001b[0m\u001b[0;34m[\u001b[0m\u001b[0mkey\u001b[0m\u001b[0;34m]\u001b[0m\u001b[0;34m\u001b[0m\u001b[0;34m\u001b[0m\u001b[0m\n\u001b[0m",
      "\u001b[0;32m/mnt/c/Users/Matthew Bilton/Documents/Software Projects/arraytainers/arraytainers/base/getset.py\u001b[0m in \u001b[0;36m__getitem__\u001b[0;34m(self, key)\u001b[0m\n\u001b[1;32m     19\u001b[0m             \u001b[0mitem\u001b[0m \u001b[0;34m=\u001b[0m \u001b[0mself\u001b[0m\u001b[0;34m.\u001b[0m\u001b[0m_index_with_container\u001b[0m\u001b[0;34m(\u001b[0m\u001b[0mkey\u001b[0m\u001b[0;34m)\u001b[0m\u001b[0;34m\u001b[0m\u001b[0;34m\u001b[0m\u001b[0m\n\u001b[1;32m     20\u001b[0m         \u001b[0;32melif\u001b[0m \u001b[0mself\u001b[0m\u001b[0;34m.\u001b[0m\u001b[0mis_array\u001b[0m\u001b[0;34m(\u001b[0m\u001b[0mkey\u001b[0m\u001b[0;34m)\u001b[0m\u001b[0;34m:\u001b[0m\u001b[0;34m\u001b[0m\u001b[0;34m\u001b[0m\u001b[0m\n\u001b[0;32m---> 21\u001b[0;31m             \u001b[0mitem\u001b[0m \u001b[0;34m=\u001b[0m \u001b[0mself\u001b[0m\u001b[0;34m.\u001b[0m\u001b[0m_index_with_array\u001b[0m\u001b[0;34m(\u001b[0m\u001b[0mkey\u001b[0m\u001b[0;34m)\u001b[0m\u001b[0;34m\u001b[0m\u001b[0;34m\u001b[0m\u001b[0m\n\u001b[0m\u001b[1;32m     22\u001b[0m         \u001b[0;32melif\u001b[0m \u001b[0mis_slice\u001b[0m\u001b[0;34m(\u001b[0m\u001b[0mkey\u001b[0m\u001b[0;34m)\u001b[0m \u001b[0;32mor\u001b[0m \u001b[0mis_tuple_of_ints\u001b[0m\u001b[0;34m(\u001b[0m\u001b[0mkey\u001b[0m\u001b[0;34m)\u001b[0m\u001b[0;34m:\u001b[0m\u001b[0;34m\u001b[0m\u001b[0;34m\u001b[0m\u001b[0m\n\u001b[1;32m     23\u001b[0m             \u001b[0mitem\u001b[0m \u001b[0;34m=\u001b[0m \u001b[0mself\u001b[0m\u001b[0;34m.\u001b[0m\u001b[0m_index_with_slices\u001b[0m\u001b[0;34m(\u001b[0m\u001b[0mkey\u001b[0m\u001b[0;34m)\u001b[0m\u001b[0;34m\u001b[0m\u001b[0;34m\u001b[0m\u001b[0m\n",
      "\u001b[0;32m/mnt/c/Users/Matthew Bilton/Documents/Software Projects/arraytainers/arraytainers/base/getset.py\u001b[0m in \u001b[0;36m_index_with_array\u001b[0;34m(self, array_key)\u001b[0m\n\u001b[1;32m     38\u001b[0m             \u001b[0mprint\u001b[0m\u001b[0;34m(\u001b[0m\u001b[0mself\u001b[0m\u001b[0;34m.\u001b[0m\u001b[0mcontents\u001b[0m\u001b[0;34m[\u001b[0m\u001b[0mcontainer_key\u001b[0m\u001b[0;34m]\u001b[0m\u001b[0;34m,\u001b[0m \u001b[0mtype\u001b[0m\u001b[0;34m(\u001b[0m\u001b[0mself\u001b[0m\u001b[0;34m.\u001b[0m\u001b[0mcontents\u001b[0m\u001b[0;34m[\u001b[0m\u001b[0mcontainer_key\u001b[0m\u001b[0;34m]\u001b[0m\u001b[0;34m)\u001b[0m\u001b[0;34m)\u001b[0m\u001b[0;34m\u001b[0m\u001b[0;34m\u001b[0m\u001b[0m\n\u001b[1;32m     39\u001b[0m             \u001b[0mprint\u001b[0m\u001b[0;34m(\u001b[0m\u001b[0mself\u001b[0m\u001b[0;34m.\u001b[0m\u001b[0marray\u001b[0m\u001b[0;34m(\u001b[0m\u001b[0marray_key\u001b[0m\u001b[0;34m)\u001b[0m\u001b[0;34m,\u001b[0m \u001b[0mtype\u001b[0m\u001b[0;34m(\u001b[0m\u001b[0mself\u001b[0m\u001b[0;34m.\u001b[0m\u001b[0marray\u001b[0m\u001b[0;34m(\u001b[0m\u001b[0marray_key\u001b[0m\u001b[0;34m)\u001b[0m\u001b[0;34m)\u001b[0m\u001b[0;34m)\u001b[0m\u001b[0;34m\u001b[0m\u001b[0;34m\u001b[0m\u001b[0m\n\u001b[0;32m---> 40\u001b[0;31m             \u001b[0mprint\u001b[0m\u001b[0;34m(\u001b[0m\u001b[0mself\u001b[0m\u001b[0;34m.\u001b[0m\u001b[0mcontents\u001b[0m\u001b[0;34m[\u001b[0m\u001b[0mcontainer_key\u001b[0m\u001b[0;34m]\u001b[0m\u001b[0;34m[\u001b[0m\u001b[0mself\u001b[0m\u001b[0;34m.\u001b[0m\u001b[0marray\u001b[0m\u001b[0;34m(\u001b[0m\u001b[0marray_key\u001b[0m\u001b[0;34m)\u001b[0m\u001b[0;34m]\u001b[0m\u001b[0;34m)\u001b[0m\u001b[0;34m\u001b[0m\u001b[0;34m\u001b[0m\u001b[0m\n\u001b[0m\u001b[1;32m     41\u001b[0m             \u001b[0mitem\u001b[0m\u001b[0;34m[\u001b[0m\u001b[0mcontainer_key\u001b[0m\u001b[0;34m]\u001b[0m \u001b[0;34m=\u001b[0m \u001b[0mself\u001b[0m\u001b[0;34m.\u001b[0m\u001b[0mcontents\u001b[0m\u001b[0;34m[\u001b[0m\u001b[0mcontainer_key\u001b[0m\u001b[0;34m]\u001b[0m\u001b[0;34m[\u001b[0m\u001b[0mself\u001b[0m\u001b[0;34m.\u001b[0m\u001b[0marray\u001b[0m\u001b[0;34m(\u001b[0m\u001b[0marray_key\u001b[0m\u001b[0;34m)\u001b[0m\u001b[0;34m]\u001b[0m\u001b[0;34m\u001b[0m\u001b[0;34m\u001b[0m\u001b[0m\n\u001b[1;32m     42\u001b[0m         \u001b[0;32mreturn\u001b[0m \u001b[0mitem\u001b[0m\u001b[0;34m\u001b[0m\u001b[0;34m\u001b[0m\u001b[0m\n",
      "\u001b[0;31mIndexError\u001b[0m: index 10 is out of bounds for axis 0 with size 3"
     ]
    }
   ],
   "source": [
    "C = B[key]"
   ]
  },
  {
   "cell_type": "code",
   "execution_count": 19,
   "id": "352c6010",
   "metadata": {
    "scrolled": false
   },
   "outputs": [
    {
     "name": "stdout",
     "output_type": "stream",
     "text": [
      "[[3.7454011 9.507143  7.3199396]\n",
      " [5.9865847 1.5601864 1.5599452]\n",
      " [0.5808361 8.661761  6.01115  ]] <class 'jaxlib.xla_extension.DeviceArray'>\n",
      "[[10 -1]\n",
      " [ 0 -1]] <class 'jaxlib.xla_extension.DeviceArray'>\n",
      "[[[0.5808361 8.661761  6.01115  ]\n",
      "  [0.5808361 8.661761  6.01115  ]]\n",
      "\n",
      " [[3.7454011 9.507143  7.3199396]\n",
      "  [0.5808361 8.661761  6.01115  ]]]\n",
      "[[3.7454011 9.507143 ]\n",
      " [7.3199396 5.9865847]] <class 'jaxlib.xla_extension.DeviceArray'>\n",
      "[[10 -1]\n",
      " [ 0 -1]] <class 'jaxlib.xla_extension.DeviceArray'>\n",
      "[[[7.3199396 5.9865847]\n",
      "  [7.3199396 5.9865847]]\n",
      "\n",
      " [[3.7454011 9.507143 ]\n",
      "  [7.3199396 5.9865847]]]\n"
     ]
    }
   ],
   "source": [
    "C = A[key]"
   ]
  },
  {
   "cell_type": "code",
   "execution_count": 6,
   "id": "e4900c98",
   "metadata": {},
   "outputs": [
    {
     "data": {
      "text/plain": [
       "DeviceArray([3.7454011, 7.3199396], dtype=float32)"
      ]
     },
     "execution_count": 6,
     "metadata": {},
     "output_type": "execute_result"
    }
   ],
   "source": [
    "jnp.array([3.74540119, 9.50714306, 7.31993942])[jnp.array([ 0, -1])]"
   ]
  },
  {
   "cell_type": "code",
   "execution_count": 7,
   "id": "f8ac907b",
   "metadata": {},
   "outputs": [
    {
     "ename": "NameError",
     "evalue": "name 'apply_func_to_contents' is not defined",
     "output_type": "error",
     "traceback": [
      "\u001b[0;31m---------------------------------------------------------------------------\u001b[0m",
      "\u001b[0;31mNameError\u001b[0m                                 Traceback (most recent call last)",
      "\u001b[0;32m/tmp/ipykernel_21549/2941274289.py\u001b[0m in \u001b[0;36m<module>\u001b[0;34m\u001b[0m\n\u001b[1;32m      1\u001b[0m \u001b[0mindex_func\u001b[0m \u001b[0;34m=\u001b[0m \u001b[0;32mlambda\u001b[0m \u001b[0mcontents\u001b[0m \u001b[0;34m:\u001b[0m \u001b[0mcontents\u001b[0m\u001b[0;34m[\u001b[0m\u001b[0mkey\u001b[0m\u001b[0;34m]\u001b[0m\u001b[0;34m\u001b[0m\u001b[0;34m\u001b[0m\u001b[0m\n\u001b[0;32m----> 2\u001b[0;31m \u001b[0mapply_func_to_contents\u001b[0m\u001b[0;34m(\u001b[0m\u001b[0ma\u001b[0m\u001b[0;34m,\u001b[0m \u001b[0mfunc\u001b[0m\u001b[0;34m=\u001b[0m\u001b[0mindex_func\u001b[0m\u001b[0;34m,\u001b[0m \u001b[0margs\u001b[0m\u001b[0;34m=\u001b[0m\u001b[0;34m(\u001b[0m\u001b[0mkey\u001b[0m\u001b[0;34m,\u001b[0m\u001b[0;34m)\u001b[0m\u001b[0;34m)\u001b[0m\u001b[0;34m\u001b[0m\u001b[0;34m\u001b[0m\u001b[0m\n\u001b[0m",
      "\u001b[0;31mNameError\u001b[0m: name 'apply_func_to_contents' is not defined"
     ]
    }
   ],
   "source": [
    "index_func = lambda contents : contents[key]\n",
    "apply_func_to_contents(a, func=index_func, args=(key,))"
   ]
  },
  {
   "cell_type": "code",
   "execution_count": 8,
   "id": "5a31f12f",
   "metadata": {},
   "outputs": [],
   "source": [
    "def apply_func_to_contents(*contents, func=None, args=(), kwargs=None, index_args=None, \n",
    "                            return_list=False, throw_exception=False):\n",
    "\n",
    "    try:\n",
    "        expected = call_func_recursive(contents, func, args, kwargs, index_args, return_list)\n",
    "        exception = None\n",
    "    except Exception as error:\n",
    "        if throw_exception:\n",
    "            raise error\n",
    "        else:\n",
    "            expected = None\n",
    "            exception = error\n",
    "\n",
    "    return (expected, exception)\n",
    "\n",
    "def call_func_recursive(contents, func, args, kwargs, index_args, return_list):\n",
    "    \n",
    "    first_item = contents[0]\n",
    "    \n",
    "    if kwargs is None:\n",
    "      kwargs = {}\n",
    "\n",
    "    if index_args is None:\n",
    "        index_args = lambda args, idx : args\n",
    "\n",
    "    if isinstance(first_item, dict):\n",
    "        contents_i = {key: [item_i[key] for item_i in contents] for key in first_item.keys()}\n",
    "        result = {key: call_func_recursive(contents_i[key], func, index_args(args,key), kwargs, index_args, return_list) \n",
    "                  for key in first_item.keys()}\n",
    "        return list(result.values()) if return_list else result\n",
    "\n",
    "    elif isinstance(first_item, (tuple,list)):\n",
    "        contents_i = [[item_i[idx] for item_i in contents] for idx in range(len(first_item))]\n",
    "        return [call_func_recursive(contents_i[idx], func, index_args(args,idx), kwargs, index_args, return_list)  \n",
    "                for idx in range(len(first_item))]\n",
    "\n",
    "    else:\n",
    "        print(contents, args)\n",
    "        return func(*contents, *args, **kwargs)"
   ]
  },
  {
   "cell_type": "code",
   "execution_count": null,
   "id": "221586b7",
   "metadata": {},
   "outputs": [],
   "source": []
  }
 ],
 "metadata": {
  "kernelspec": {
   "display_name": "Python 3 (ipykernel)",
   "language": "python",
   "name": "python3"
  },
  "language_info": {
   "codemirror_mode": {
    "name": "ipython",
    "version": 3
   },
   "file_extension": ".py",
   "mimetype": "text/x-python",
   "name": "python",
   "nbconvert_exporter": "python",
   "pygments_lexer": "ipython3",
   "version": "3.8.5"
  }
 },
 "nbformat": 4,
 "nbformat_minor": 5
}
